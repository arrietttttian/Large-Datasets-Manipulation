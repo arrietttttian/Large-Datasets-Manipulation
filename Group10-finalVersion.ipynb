{
 "cells": [
  {
   "cell_type": "markdown",
   "metadata": {},
   "source": [
    "# Group 10 Project -- UK Met Office Global Weather Data for COVID-19 Analysis"
   ]
  },
  {
   "cell_type": "markdown",
   "metadata": {},
   "source": [
    "## Grasp Data from Website"
   ]
  },
  {
   "cell_type": "markdown",
   "metadata": {},
   "source": [
    "Because the total size of the entire dataset is too large (352G of nc files), we grasped a subset of the hourly data, merged attributes into one csv file (122G) and stored in s3."
   ]
  },
  {
   "cell_type": "code",
   "execution_count": 46,
   "metadata": {},
   "outputs": [],
   "source": [
    "variable = ['pmsl','precip','sh','sw','t1o5m','windgust','windspeed']"
   ]
  },
  {
   "cell_type": "code",
   "execution_count": 48,
   "metadata": {},
   "outputs": [],
   "source": [
    "start_date = datetime.date(2020, 4, 1)\n",
    "end_date = datetime.date(2020, 6, 10)\n",
    "delta = datetime.timedelta(days=1)\n",
    "global_hourly_link = []\n",
    "\n",
    "while start_date <= end_date:\n",
    "    day = start_date.strftime(\"%Y%m%d\")\n",
    "    start_date += delta\n",
    "    for d in variable:\n",
    "        link2 = \"https://metdatasa.blob.core.windows.net/covid19-response/metoffice_global_hourly/\"+d+\"/global_hourly_\"+d+'_'+day+'.nc'\n",
    "        global_hourly_link.append(link2)"
   ]
  },
  {
   "cell_type": "code",
   "execution_count": 49,
   "metadata": {},
   "outputs": [],
   "source": [
    "global_hourly_link.sort()"
   ]
  },
  {
   "cell_type": "code",
   "execution_count": 50,
   "metadata": {},
   "outputs": [
    {
     "data": {
      "text/plain": [
       "497"
      ]
     },
     "execution_count": 50,
     "metadata": {},
     "output_type": "execute_result"
    }
   ],
   "source": [
    "len(global_hourly_link)"
   ]
  },
  {
   "cell_type": "code",
   "execution_count": 51,
   "metadata": {},
   "outputs": [],
   "source": [
    "with open('final/global_hourly.txt', 'w') as f:\n",
    "    for item in global_hourly_link:\n",
    "        f.write(\"%s\\n\" % item)"
   ]
  },
  {
   "cell_type": "markdown",
   "metadata": {},
   "source": [
    "### sh"
   ]
  },
  {
   "cell_type": "code",
   "execution_count": 47,
   "metadata": {},
   "outputs": [],
   "source": [
    "sh = spark.read.csv(\"s3://123try2/sh_csv/sh_aggregated.csv\",header=True,inferSchema=True)"
   ]
  },
  {
   "cell_type": "code",
   "execution_count": 48,
   "metadata": {},
   "outputs": [
    {
     "name": "stdout",
     "output_type": "stream",
     "text": [
      "+---+----+----------+---------+-----------------+------------------+--------------------+--------------------+-----------------------+----------------------------+------+-------------------+-------------------+\n",
      "|_c0|bnds|  latitude|longitude|specific_humidity|latitude_longitude|     forecast_period|forecast_period_bnds|forecast_reference_time|forecast_reference_time_bnds|height|               time|          time_bnds|\n",
      "+---+----+----------+---------+-----------------+------------------+--------------------+--------------------+-----------------------+----------------------------+------+-------------------+-------------------+\n",
      "|  0|   0|-89.953125|0.0703125|              0.0|       -2147483647|0 days 02:30:00.0...|                 0.0|    2020-04-01 09:00:00|         2020-04-01 00:00:00|   1.5|2020-04-01 11:30:00|2020-04-01 00:00:00|\n",
      "|  1|   0|-89.953125|0.2109375|              0.0|       -2147483647|0 days 02:30:00.0...|                 0.0|    2020-04-01 09:00:00|         2020-04-01 00:00:00|   1.5|2020-04-01 11:30:00|2020-04-01 00:00:00|\n",
      "|  2|   0|-89.953125|0.3515625|              0.0|       -2147483647|0 days 02:30:00.0...|                 0.0|    2020-04-01 09:00:00|         2020-04-01 00:00:00|   1.5|2020-04-01 11:30:00|2020-04-01 00:00:00|\n",
      "|  3|   0|-89.953125|0.4921875|              0.0|       -2147483647|0 days 02:30:00.0...|                 0.0|    2020-04-01 09:00:00|         2020-04-01 00:00:00|   1.5|2020-04-01 11:30:00|2020-04-01 00:00:00|\n",
      "|  4|   0|-89.953125|0.6328125|              0.0|       -2147483647|0 days 02:30:00.0...|                 0.0|    2020-04-01 09:00:00|         2020-04-01 00:00:00|   1.5|2020-04-01 11:30:00|2020-04-01 00:00:00|\n",
      "+---+----+----------+---------+-----------------+------------------+--------------------+--------------------+-----------------------+----------------------------+------+-------------------+-------------------+\n",
      "only showing top 5 rows\n",
      "\n"
     ]
    }
   ],
   "source": [
    "sh.show(5)"
   ]
  },
  {
   "cell_type": "code",
   "execution_count": 49,
   "metadata": {},
   "outputs": [
    {
     "name": "stdout",
     "output_type": "stream",
     "text": [
      "root\n",
      " |-- _c0: integer (nullable = true)\n",
      " |-- bnds: integer (nullable = true)\n",
      " |-- latitude: double (nullable = true)\n",
      " |-- longitude: double (nullable = true)\n",
      " |-- specific_humidity: double (nullable = true)\n",
      " |-- latitude_longitude: integer (nullable = true)\n",
      " |-- forecast_period: string (nullable = true)\n",
      " |-- forecast_period_bnds: double (nullable = true)\n",
      " |-- forecast_reference_time: timestamp (nullable = true)\n",
      " |-- forecast_reference_time_bnds: timestamp (nullable = true)\n",
      " |-- height: double (nullable = true)\n",
      " |-- time: timestamp (nullable = true)\n",
      " |-- time_bnds: timestamp (nullable = true)\n",
      "\n"
     ]
    }
   ],
   "source": [
    "sh.printSchema()"
   ]
  },
  {
   "cell_type": "code",
   "execution_count": 52,
   "metadata": {},
   "outputs": [],
   "source": [
    "sh2 = sh.withColumnRenamed(\"height\",\"height_sh\")"
   ]
  },
  {
   "cell_type": "code",
   "execution_count": 53,
   "metadata": {},
   "outputs": [
    {
     "name": "stdout",
     "output_type": "stream",
     "text": [
      "root\n",
      " |-- _c0: integer (nullable = true)\n",
      " |-- bnds: integer (nullable = true)\n",
      " |-- latitude: double (nullable = true)\n",
      " |-- longitude: double (nullable = true)\n",
      " |-- specific_humidity: double (nullable = true)\n",
      " |-- latitude_longitude: integer (nullable = true)\n",
      " |-- forecast_period: string (nullable = true)\n",
      " |-- forecast_period_bnds: double (nullable = true)\n",
      " |-- forecast_reference_time: timestamp (nullable = true)\n",
      " |-- forecast_reference_time_bnds: timestamp (nullable = true)\n",
      " |-- height_sh: double (nullable = true)\n",
      " |-- time: timestamp (nullable = true)\n",
      " |-- time_bnds: timestamp (nullable = true)\n",
      "\n"
     ]
    }
   ],
   "source": [
    "sh2.printSchema()"
   ]
  },
  {
   "cell_type": "code",
   "execution_count": 57,
   "metadata": {},
   "outputs": [],
   "source": [
    "sh3 = sh2.drop('_c0')"
   ]
  },
  {
   "cell_type": "code",
   "execution_count": 74,
   "metadata": {},
   "outputs": [
    {
     "name": "stdout",
     "output_type": "stream",
     "text": [
      "+----+----------+---------+-----------------+------------------+--------------------+--------------------+-----------------------+----------------------------+---------+-------------------+-------------------+\n",
      "|bnds|  latitude|longitude|specific_humidity|latitude_longitude|     forecast_period|forecast_period_bnds|forecast_reference_time|forecast_reference_time_bnds|height_sh|               time|          time_bnds|\n",
      "+----+----------+---------+-----------------+------------------+--------------------+--------------------+-----------------------+----------------------------+---------+-------------------+-------------------+\n",
      "|   0|-89.953125|0.0703125|              0.0|       -2147483647|0 days 02:30:00.0...|                 0.0|    2020-04-01 09:00:00|         2020-04-01 00:00:00|      1.5|2020-04-01 11:30:00|2020-04-01 00:00:00|\n",
      "|   0|-89.953125|0.2109375|              0.0|       -2147483647|0 days 02:30:00.0...|                 0.0|    2020-04-01 09:00:00|         2020-04-01 00:00:00|      1.5|2020-04-01 11:30:00|2020-04-01 00:00:00|\n",
      "|   0|-89.953125|0.3515625|              0.0|       -2147483647|0 days 02:30:00.0...|                 0.0|    2020-04-01 09:00:00|         2020-04-01 00:00:00|      1.5|2020-04-01 11:30:00|2020-04-01 00:00:00|\n",
      "|   0|-89.953125|0.4921875|              0.0|       -2147483647|0 days 02:30:00.0...|                 0.0|    2020-04-01 09:00:00|         2020-04-01 00:00:00|      1.5|2020-04-01 11:30:00|2020-04-01 00:00:00|\n",
      "|   0|-89.953125|0.6328125|              0.0|       -2147483647|0 days 02:30:00.0...|                 0.0|    2020-04-01 09:00:00|         2020-04-01 00:00:00|      1.5|2020-04-01 11:30:00|2020-04-01 00:00:00|\n",
      "+----+----------+---------+-----------------+------------------+--------------------+--------------------+-----------------------+----------------------------+---------+-------------------+-------------------+\n",
      "only showing top 5 rows\n",
      "\n"
     ]
    }
   ],
   "source": [
    "sh3.show(5)"
   ]
  },
  {
   "cell_type": "markdown",
   "metadata": {},
   "source": [
    "### precip"
   ]
  },
  {
   "cell_type": "code",
   "execution_count": 27,
   "metadata": {},
   "outputs": [],
   "source": [
    "precip = spark.read.csv(\"s3://123try2/merged_files/precip_aggregated.csv\",header=True,inferSchema=True)"
   ]
  },
  {
   "cell_type": "code",
   "execution_count": 28,
   "metadata": {},
   "outputs": [
    {
     "name": "stdout",
     "output_type": "stream",
     "text": [
      "+---+----+----------+---------+------------------+------------------+--------------------+--------------------+-----------------------+----------------------------+-------------------+-------------------+\n",
      "|_c0|bnds|  latitude|longitude|precipitation_flux|latitude_longitude|     forecast_period|forecast_period_bnds|forecast_reference_time|forecast_reference_time_bnds|               time|          time_bnds|\n",
      "+---+----+----------+---------+------------------+------------------+--------------------+--------------------+-----------------------+----------------------------+-------------------+-------------------+\n",
      "|  0|   0|-89.953125|0.0703125|               0.0|       -2147483647|0 days 02:00:00.0...|                -1.0|    2020-04-01 09:00:00|         2020-04-01 00:00:00|2020-04-01 11:00:00|2020-03-31 23:00:00|\n",
      "|  1|   0|-89.953125|0.2109375|               0.0|       -2147483647|0 days 02:00:00.0...|                -1.0|    2020-04-01 09:00:00|         2020-04-01 00:00:00|2020-04-01 11:00:00|2020-03-31 23:00:00|\n",
      "|  2|   0|-89.953125|0.3515625|               0.0|       -2147483647|0 days 02:00:00.0...|                -1.0|    2020-04-01 09:00:00|         2020-04-01 00:00:00|2020-04-01 11:00:00|2020-03-31 23:00:00|\n",
      "|  3|   0|-89.953125|0.4921875|               0.0|       -2147483647|0 days 02:00:00.0...|                -1.0|    2020-04-01 09:00:00|         2020-04-01 00:00:00|2020-04-01 11:00:00|2020-03-31 23:00:00|\n",
      "|  4|   0|-89.953125|0.6328125|               0.0|       -2147483647|0 days 02:00:00.0...|                -1.0|    2020-04-01 09:00:00|         2020-04-01 00:00:00|2020-04-01 11:00:00|2020-03-31 23:00:00|\n",
      "+---+----+----------+---------+------------------+------------------+--------------------+--------------------+-----------------------+----------------------------+-------------------+-------------------+\n",
      "only showing top 5 rows\n",
      "\n"
     ]
    }
   ],
   "source": [
    "precip.show(5)"
   ]
  },
  {
   "cell_type": "code",
   "execution_count": 29,
   "metadata": {},
   "outputs": [
    {
     "name": "stdout",
     "output_type": "stream",
     "text": [
      "root\n",
      " |-- _c0: integer (nullable = true)\n",
      " |-- bnds: integer (nullable = true)\n",
      " |-- latitude: double (nullable = true)\n",
      " |-- longitude: double (nullable = true)\n",
      " |-- precipitation_flux: double (nullable = true)\n",
      " |-- latitude_longitude: integer (nullable = true)\n",
      " |-- forecast_period: string (nullable = true)\n",
      " |-- forecast_period_bnds: double (nullable = true)\n",
      " |-- forecast_reference_time: timestamp (nullable = true)\n",
      " |-- forecast_reference_time_bnds: timestamp (nullable = true)\n",
      " |-- time: timestamp (nullable = true)\n",
      " |-- time_bnds: timestamp (nullable = true)\n",
      "\n"
     ]
    }
   ],
   "source": [
    "precip.printSchema()"
   ]
  },
  {
   "cell_type": "code",
   "execution_count": 59,
   "metadata": {},
   "outputs": [],
   "source": [
    "precip2 = precip.drop('_c0')"
   ]
  },
  {
   "cell_type": "code",
   "execution_count": 61,
   "metadata": {},
   "outputs": [
    {
     "name": "stdout",
     "output_type": "stream",
     "text": [
      "+----+----------+---------+------------------+------------------+--------------------+--------------------+-----------------------+----------------------------+-------------------+-------------------+\n",
      "|bnds|  latitude|longitude|precipitation_flux|latitude_longitude|     forecast_period|forecast_period_bnds|forecast_reference_time|forecast_reference_time_bnds|               time|          time_bnds|\n",
      "+----+----------+---------+------------------+------------------+--------------------+--------------------+-----------------------+----------------------------+-------------------+-------------------+\n",
      "|   0|-89.953125|0.0703125|               0.0|       -2147483647|0 days 02:00:00.0...|                -1.0|    2020-04-01 09:00:00|         2020-04-01 00:00:00|2020-04-01 11:00:00|2020-03-31 23:00:00|\n",
      "|   0|-89.953125|0.2109375|               0.0|       -2147483647|0 days 02:00:00.0...|                -1.0|    2020-04-01 09:00:00|         2020-04-01 00:00:00|2020-04-01 11:00:00|2020-03-31 23:00:00|\n",
      "|   0|-89.953125|0.3515625|               0.0|       -2147483647|0 days 02:00:00.0...|                -1.0|    2020-04-01 09:00:00|         2020-04-01 00:00:00|2020-04-01 11:00:00|2020-03-31 23:00:00|\n",
      "|   0|-89.953125|0.4921875|               0.0|       -2147483647|0 days 02:00:00.0...|                -1.0|    2020-04-01 09:00:00|         2020-04-01 00:00:00|2020-04-01 11:00:00|2020-03-31 23:00:00|\n",
      "|   0|-89.953125|0.6328125|               0.0|       -2147483647|0 days 02:00:00.0...|                -1.0|    2020-04-01 09:00:00|         2020-04-01 00:00:00|2020-04-01 11:00:00|2020-03-31 23:00:00|\n",
      "+----+----------+---------+------------------+------------------+--------------------+--------------------+-----------------------+----------------------------+-------------------+-------------------+\n",
      "only showing top 5 rows\n",
      "\n"
     ]
    }
   ],
   "source": [
    "precip2.show(5)"
   ]
  },
  {
   "cell_type": "markdown",
   "metadata": {},
   "source": [
    "### SW"
   ]
  },
  {
   "cell_type": "code",
   "execution_count": 30,
   "metadata": {},
   "outputs": [],
   "source": [
    "sw = spark.read.csv(\"s3://123try2/merged_files/sw_aggregated.csv\",header=True,inferSchema=True)"
   ]
  },
  {
   "cell_type": "code",
   "execution_count": 31,
   "metadata": {},
   "outputs": [
    {
     "name": "stdout",
     "output_type": "stream",
     "text": [
      "+---+----+----------+---------+----------+------------------+--------------------+--------------------+-----------------------+----------------------------+-------------------+-------------------+\n",
      "|_c0|bnds|  latitude|longitude|m01s01i202|latitude_longitude|     forecast_period|forecast_period_bnds|forecast_reference_time|forecast_reference_time_bnds|               time|          time_bnds|\n",
      "+---+----+----------+---------+----------+------------------+--------------------+--------------------+-----------------------+----------------------------+-------------------+-------------------+\n",
      "|  0|   0|-89.953125|0.0703125|       0.0|       -2147483647|0 days 02:30:00.0...|                 0.0|    2020-04-01 09:00:00|         2020-04-01 00:00:00|2020-04-01 11:30:00|2020-04-01 00:00:00|\n",
      "|  1|   0|-89.953125|0.2109375|       0.0|       -2147483647|0 days 02:30:00.0...|                 0.0|    2020-04-01 09:00:00|         2020-04-01 00:00:00|2020-04-01 11:30:00|2020-04-01 00:00:00|\n",
      "|  2|   0|-89.953125|0.3515625|       0.0|       -2147483647|0 days 02:30:00.0...|                 0.0|    2020-04-01 09:00:00|         2020-04-01 00:00:00|2020-04-01 11:30:00|2020-04-01 00:00:00|\n",
      "|  3|   0|-89.953125|0.4921875|       0.0|       -2147483647|0 days 02:30:00.0...|                 0.0|    2020-04-01 09:00:00|         2020-04-01 00:00:00|2020-04-01 11:30:00|2020-04-01 00:00:00|\n",
      "|  4|   0|-89.953125|0.6328125|       0.0|       -2147483647|0 days 02:30:00.0...|                 0.0|    2020-04-01 09:00:00|         2020-04-01 00:00:00|2020-04-01 11:30:00|2020-04-01 00:00:00|\n",
      "+---+----+----------+---------+----------+------------------+--------------------+--------------------+-----------------------+----------------------------+-------------------+-------------------+\n",
      "only showing top 5 rows\n",
      "\n"
     ]
    }
   ],
   "source": [
    "sw.show(5)"
   ]
  },
  {
   "cell_type": "code",
   "execution_count": 32,
   "metadata": {},
   "outputs": [
    {
     "name": "stdout",
     "output_type": "stream",
     "text": [
      "root\n",
      " |-- _c0: integer (nullable = true)\n",
      " |-- bnds: integer (nullable = true)\n",
      " |-- latitude: double (nullable = true)\n",
      " |-- longitude: double (nullable = true)\n",
      " |-- m01s01i202: double (nullable = true)\n",
      " |-- latitude_longitude: integer (nullable = true)\n",
      " |-- forecast_period: string (nullable = true)\n",
      " |-- forecast_period_bnds: double (nullable = true)\n",
      " |-- forecast_reference_time: timestamp (nullable = true)\n",
      " |-- forecast_reference_time_bnds: timestamp (nullable = true)\n",
      " |-- time: timestamp (nullable = true)\n",
      " |-- time_bnds: timestamp (nullable = true)\n",
      "\n"
     ]
    }
   ],
   "source": [
    "sw.printSchema()"
   ]
  },
  {
   "cell_type": "code",
   "execution_count": 62,
   "metadata": {},
   "outputs": [],
   "source": [
    "sw2 = sw.drop('_c0')"
   ]
  },
  {
   "cell_type": "code",
   "execution_count": 63,
   "metadata": {},
   "outputs": [
    {
     "name": "stdout",
     "output_type": "stream",
     "text": [
      "+----+----------+---------+----------+------------------+--------------------+--------------------+-----------------------+----------------------------+-------------------+-------------------+\n",
      "|bnds|  latitude|longitude|m01s01i202|latitude_longitude|     forecast_period|forecast_period_bnds|forecast_reference_time|forecast_reference_time_bnds|               time|          time_bnds|\n",
      "+----+----------+---------+----------+------------------+--------------------+--------------------+-----------------------+----------------------------+-------------------+-------------------+\n",
      "|   0|-89.953125|0.0703125|       0.0|       -2147483647|0 days 02:30:00.0...|                 0.0|    2020-04-01 09:00:00|         2020-04-01 00:00:00|2020-04-01 11:30:00|2020-04-01 00:00:00|\n",
      "|   0|-89.953125|0.2109375|       0.0|       -2147483647|0 days 02:30:00.0...|                 0.0|    2020-04-01 09:00:00|         2020-04-01 00:00:00|2020-04-01 11:30:00|2020-04-01 00:00:00|\n",
      "|   0|-89.953125|0.3515625|       0.0|       -2147483647|0 days 02:30:00.0...|                 0.0|    2020-04-01 09:00:00|         2020-04-01 00:00:00|2020-04-01 11:30:00|2020-04-01 00:00:00|\n",
      "|   0|-89.953125|0.4921875|       0.0|       -2147483647|0 days 02:30:00.0...|                 0.0|    2020-04-01 09:00:00|         2020-04-01 00:00:00|2020-04-01 11:30:00|2020-04-01 00:00:00|\n",
      "|   0|-89.953125|0.6328125|       0.0|       -2147483647|0 days 02:30:00.0...|                 0.0|    2020-04-01 09:00:00|         2020-04-01 00:00:00|2020-04-01 11:30:00|2020-04-01 00:00:00|\n",
      "+----+----------+---------+----------+------------------+--------------------+--------------------+-----------------------+----------------------------+-------------------+-------------------+\n",
      "only showing top 5 rows\n",
      "\n"
     ]
    }
   ],
   "source": [
    "sw2.show(5)"
   ]
  },
  {
   "cell_type": "markdown",
   "metadata": {},
   "source": [
    "### t1o5m"
   ]
  },
  {
   "cell_type": "code",
   "execution_count": 33,
   "metadata": {},
   "outputs": [],
   "source": [
    "t1o5m = spark.read.csv(\"s3://123try2/merged_files/t1o5m_aggregated.csv\",header=True,inferSchema=True)"
   ]
  },
  {
   "cell_type": "code",
   "execution_count": 34,
   "metadata": {},
   "outputs": [
    {
     "name": "stdout",
     "output_type": "stream",
     "text": [
      "+---+----+----------+---------+---------------+------------------+--------------------+--------------------+-----------------------+----------------------------+------+-------------------+-------------------+\n",
      "|_c0|bnds|  latitude|longitude|air_temperature|latitude_longitude|     forecast_period|forecast_period_bnds|forecast_reference_time|forecast_reference_time_bnds|height|               time|          time_bnds|\n",
      "+---+----+----------+---------+---------------+------------------+--------------------+--------------------+-----------------------+----------------------------+------+-------------------+-------------------+\n",
      "|  0|   0|-89.953125|0.0703125|       217.6569|       -2147483647|0 days 02:30:00.0...|                 0.0|    2020-04-01 09:00:00|         2020-04-01 00:00:00|   1.5|2020-04-01 11:30:00|2020-04-01 00:00:00|\n",
      "|  1|   0|-89.953125|0.2109375|      217.75781|       -2147483647|0 days 02:30:00.0...|                 0.0|    2020-04-01 09:00:00|         2020-04-01 00:00:00|   1.5|2020-04-01 11:30:00|2020-04-01 00:00:00|\n",
      "|  2|   0|-89.953125|0.3515625|      217.72136|       -2147483647|0 days 02:30:00.0...|                 0.0|    2020-04-01 09:00:00|         2020-04-01 00:00:00|   1.5|2020-04-01 11:30:00|2020-04-01 00:00:00|\n",
      "|  3|   0|-89.953125|0.4921875|      217.64192|       -2147483647|0 days 02:30:00.0...|                 0.0|    2020-04-01 09:00:00|         2020-04-01 00:00:00|   1.5|2020-04-01 11:30:00|2020-04-01 00:00:00|\n",
      "|  4|   0|-89.953125|0.6328125|      217.66145|       -2147483647|0 days 02:30:00.0...|                 0.0|    2020-04-01 09:00:00|         2020-04-01 00:00:00|   1.5|2020-04-01 11:30:00|2020-04-01 00:00:00|\n",
      "+---+----+----------+---------+---------------+------------------+--------------------+--------------------+-----------------------+----------------------------+------+-------------------+-------------------+\n",
      "only showing top 5 rows\n",
      "\n"
     ]
    }
   ],
   "source": [
    "t1o5m.show(5)"
   ]
  },
  {
   "cell_type": "code",
   "execution_count": 35,
   "metadata": {},
   "outputs": [
    {
     "name": "stdout",
     "output_type": "stream",
     "text": [
      "root\n",
      " |-- _c0: integer (nullable = true)\n",
      " |-- bnds: integer (nullable = true)\n",
      " |-- latitude: double (nullable = true)\n",
      " |-- longitude: double (nullable = true)\n",
      " |-- air_temperature: double (nullable = true)\n",
      " |-- latitude_longitude: integer (nullable = true)\n",
      " |-- forecast_period: string (nullable = true)\n",
      " |-- forecast_period_bnds: double (nullable = true)\n",
      " |-- forecast_reference_time: timestamp (nullable = true)\n",
      " |-- forecast_reference_time_bnds: timestamp (nullable = true)\n",
      " |-- height: double (nullable = true)\n",
      " |-- time: timestamp (nullable = true)\n",
      " |-- time_bnds: timestamp (nullable = true)\n",
      "\n"
     ]
    }
   ],
   "source": [
    "t1o5m.printSchema()"
   ]
  },
  {
   "cell_type": "code",
   "execution_count": 64,
   "metadata": {},
   "outputs": [],
   "source": [
    "t2 = t1o5m.withColumnRenamed(\"height\",'height_t1o5m')"
   ]
  },
  {
   "cell_type": "code",
   "execution_count": 66,
   "metadata": {},
   "outputs": [],
   "source": [
    "t3 = t2.drop('_c0')"
   ]
  },
  {
   "cell_type": "code",
   "execution_count": 67,
   "metadata": {},
   "outputs": [
    {
     "name": "stdout",
     "output_type": "stream",
     "text": [
      "+----+----------+---------+---------------+------------------+--------------------+--------------------+-----------------------+----------------------------+------------+-------------------+-------------------+\n",
      "|bnds|  latitude|longitude|air_temperature|latitude_longitude|     forecast_period|forecast_period_bnds|forecast_reference_time|forecast_reference_time_bnds|height_t1o5m|               time|          time_bnds|\n",
      "+----+----------+---------+---------------+------------------+--------------------+--------------------+-----------------------+----------------------------+------------+-------------------+-------------------+\n",
      "|   0|-89.953125|0.0703125|       217.6569|       -2147483647|0 days 02:30:00.0...|                 0.0|    2020-04-01 09:00:00|         2020-04-01 00:00:00|         1.5|2020-04-01 11:30:00|2020-04-01 00:00:00|\n",
      "|   0|-89.953125|0.2109375|      217.75781|       -2147483647|0 days 02:30:00.0...|                 0.0|    2020-04-01 09:00:00|         2020-04-01 00:00:00|         1.5|2020-04-01 11:30:00|2020-04-01 00:00:00|\n",
      "|   0|-89.953125|0.3515625|      217.72136|       -2147483647|0 days 02:30:00.0...|                 0.0|    2020-04-01 09:00:00|         2020-04-01 00:00:00|         1.5|2020-04-01 11:30:00|2020-04-01 00:00:00|\n",
      "|   0|-89.953125|0.4921875|      217.64192|       -2147483647|0 days 02:30:00.0...|                 0.0|    2020-04-01 09:00:00|         2020-04-01 00:00:00|         1.5|2020-04-01 11:30:00|2020-04-01 00:00:00|\n",
      "|   0|-89.953125|0.6328125|      217.66145|       -2147483647|0 days 02:30:00.0...|                 0.0|    2020-04-01 09:00:00|         2020-04-01 00:00:00|         1.5|2020-04-01 11:30:00|2020-04-01 00:00:00|\n",
      "+----+----------+---------+---------------+------------------+--------------------+--------------------+-----------------------+----------------------------+------------+-------------------+-------------------+\n",
      "only showing top 5 rows\n",
      "\n"
     ]
    }
   ],
   "source": [
    "t3.show(5)"
   ]
  },
  {
   "cell_type": "markdown",
   "metadata": {},
   "source": [
    "### windgust"
   ]
  },
  {
   "cell_type": "code",
   "execution_count": 36,
   "metadata": {},
   "outputs": [],
   "source": [
    "windgust = spark.read.csv(\"s3://123try2/merged_files/windgust_aggregated.csv\",header=True,inferSchema=True)"
   ]
  },
  {
   "cell_type": "code",
   "execution_count": 37,
   "metadata": {},
   "outputs": [
    {
     "name": "stdout",
     "output_type": "stream",
     "text": [
      "+---+----+----------+---------+------------------+------------------+--------------------+--------------------+-----------------------+----------------------------+------+-------------------+-------------------+\n",
      "|_c0|bnds|  latitude|longitude|wind_speed_of_gust|latitude_longitude|     forecast_period|forecast_period_bnds|forecast_reference_time|forecast_reference_time_bnds|height|               time|          time_bnds|\n",
      "+---+----+----------+---------+------------------+------------------+--------------------+--------------------+-----------------------+----------------------------+------+-------------------+-------------------+\n",
      "|  0|   0|-89.953125|0.0703125|         6.1822915|       -2147483647|0 days 02:30:00.0...|                 0.0|    2020-04-01 09:00:00|         2020-04-01 00:00:00|  10.0|2020-04-01 11:30:00|2020-04-01 00:00:00|\n",
      "|  1|   0|-89.953125|0.2109375|         6.1770835|       -2147483647|0 days 02:30:00.0...|                 0.0|    2020-04-01 09:00:00|         2020-04-01 00:00:00|  10.0|2020-04-01 11:30:00|2020-04-01 00:00:00|\n",
      "|  2|   0|-89.953125|0.3515625|         6.1770835|       -2147483647|0 days 02:30:00.0...|                 0.0|    2020-04-01 09:00:00|         2020-04-01 00:00:00|  10.0|2020-04-01 11:30:00|2020-04-01 00:00:00|\n",
      "|  3|   0|-89.953125|0.4921875|         6.1770835|       -2147483647|0 days 02:30:00.0...|                 0.0|    2020-04-01 09:00:00|         2020-04-01 00:00:00|  10.0|2020-04-01 11:30:00|2020-04-01 00:00:00|\n",
      "|  4|   0|-89.953125|0.6328125|          6.171875|       -2147483647|0 days 02:30:00.0...|                 0.0|    2020-04-01 09:00:00|         2020-04-01 00:00:00|  10.0|2020-04-01 11:30:00|2020-04-01 00:00:00|\n",
      "+---+----+----------+---------+------------------+------------------+--------------------+--------------------+-----------------------+----------------------------+------+-------------------+-------------------+\n",
      "only showing top 5 rows\n",
      "\n"
     ]
    }
   ],
   "source": [
    "windgust.show(5)"
   ]
  },
  {
   "cell_type": "code",
   "execution_count": 38,
   "metadata": {},
   "outputs": [
    {
     "name": "stdout",
     "output_type": "stream",
     "text": [
      "root\n",
      " |-- _c0: integer (nullable = true)\n",
      " |-- bnds: integer (nullable = true)\n",
      " |-- latitude: double (nullable = true)\n",
      " |-- longitude: double (nullable = true)\n",
      " |-- wind_speed_of_gust: double (nullable = true)\n",
      " |-- latitude_longitude: integer (nullable = true)\n",
      " |-- forecast_period: string (nullable = true)\n",
      " |-- forecast_period_bnds: double (nullable = true)\n",
      " |-- forecast_reference_time: timestamp (nullable = true)\n",
      " |-- forecast_reference_time_bnds: timestamp (nullable = true)\n",
      " |-- height: double (nullable = true)\n",
      " |-- time: timestamp (nullable = true)\n",
      " |-- time_bnds: timestamp (nullable = true)\n",
      "\n"
     ]
    }
   ],
   "source": [
    "windgust.printSchema()"
   ]
  },
  {
   "cell_type": "code",
   "execution_count": 68,
   "metadata": {},
   "outputs": [],
   "source": [
    "windgust2 = windgust.withColumnRenamed(\"height\",\"height_windgust\")"
   ]
  },
  {
   "cell_type": "code",
   "execution_count": 69,
   "metadata": {},
   "outputs": [],
   "source": [
    "windgust3 = windgust2.drop('_c0')"
   ]
  },
  {
   "cell_type": "code",
   "execution_count": 70,
   "metadata": {},
   "outputs": [
    {
     "name": "stdout",
     "output_type": "stream",
     "text": [
      "+----+----------+---------+------------------+------------------+--------------------+--------------------+-----------------------+----------------------------+---------------+-------------------+-------------------+\n",
      "|bnds|  latitude|longitude|wind_speed_of_gust|latitude_longitude|     forecast_period|forecast_period_bnds|forecast_reference_time|forecast_reference_time_bnds|height_windgust|               time|          time_bnds|\n",
      "+----+----------+---------+------------------+------------------+--------------------+--------------------+-----------------------+----------------------------+---------------+-------------------+-------------------+\n",
      "|   0|-89.953125|0.0703125|         6.1822915|       -2147483647|0 days 02:30:00.0...|                 0.0|    2020-04-01 09:00:00|         2020-04-01 00:00:00|           10.0|2020-04-01 11:30:00|2020-04-01 00:00:00|\n",
      "|   0|-89.953125|0.2109375|         6.1770835|       -2147483647|0 days 02:30:00.0...|                 0.0|    2020-04-01 09:00:00|         2020-04-01 00:00:00|           10.0|2020-04-01 11:30:00|2020-04-01 00:00:00|\n",
      "|   0|-89.953125|0.3515625|         6.1770835|       -2147483647|0 days 02:30:00.0...|                 0.0|    2020-04-01 09:00:00|         2020-04-01 00:00:00|           10.0|2020-04-01 11:30:00|2020-04-01 00:00:00|\n",
      "|   0|-89.953125|0.4921875|         6.1770835|       -2147483647|0 days 02:30:00.0...|                 0.0|    2020-04-01 09:00:00|         2020-04-01 00:00:00|           10.0|2020-04-01 11:30:00|2020-04-01 00:00:00|\n",
      "|   0|-89.953125|0.6328125|          6.171875|       -2147483647|0 days 02:30:00.0...|                 0.0|    2020-04-01 09:00:00|         2020-04-01 00:00:00|           10.0|2020-04-01 11:30:00|2020-04-01 00:00:00|\n",
      "+----+----------+---------+------------------+------------------+--------------------+--------------------+-----------------------+----------------------------+---------------+-------------------+-------------------+\n",
      "only showing top 5 rows\n",
      "\n"
     ]
    }
   ],
   "source": [
    "windgust3.show(5)"
   ]
  },
  {
   "cell_type": "markdown",
   "metadata": {},
   "source": [
    "## Join dataframes\n",
    "sh3, precip2, sw2, t3, windgust3"
   ]
  },
  {
   "cell_type": "code",
   "execution_count": 84,
   "metadata": {},
   "outputs": [],
   "source": [
    "df1 = sh3.join(precip2,on=['latitude','longitude','latitude_longitude','forecast_reference_time'])"
   ]
  },
  {
   "cell_type": "code",
   "execution_count": 85,
   "metadata": {},
   "outputs": [],
   "source": [
    "df2 = df1.join(sw2,on=['latitude','longitude','latitude_longitude','forecast_reference_time'])"
   ]
  },
  {
   "cell_type": "code",
   "execution_count": 86,
   "metadata": {},
   "outputs": [],
   "source": [
    "df3 = df2.join(t3,on=['latitude','longitude','latitude_longitude','forecast_reference_time'])"
   ]
  },
  {
   "cell_type": "code",
   "execution_count": 87,
   "metadata": {},
   "outputs": [],
   "source": [
    "df4 = df3.join(windgust3,on=['latitude','longitude','latitude_longitude','forecast_reference_time'])"
   ]
  },
  {
   "cell_type": "code",
   "execution_count": 88,
   "metadata": {},
   "outputs": [],
   "source": [
    "df5 = df4.join(windspeed3,on=['latitude','longitude','latitude_longitude','forecast_reference_time'])"
   ]
  },
  {
   "cell_type": "code",
   "execution_count": 90,
   "metadata": {},
   "outputs": [
    {
     "name": "stdout",
     "output_type": "stream",
     "text": [
      "+----------+---------+------------------+-----------------------+----+-----------------+--------------------+--------------------+----------------------------+---------+-------------------+-------------------+----+------------------+--------------------+--------------------+----------------------------+-------------------+-------------------+----+----------+--------------------+--------------------+----------------------------+-------------------+-------------------+----+---------------+--------------------+--------------------+----------------------------+------------+-------------------+-------------------+----+------------------+--------------------+--------------------+----------------------------+---------------+-------------------+-------------------+\n",
      "|  latitude|longitude|latitude_longitude|forecast_reference_time|bnds|specific_humidity|     forecast_period|forecast_period_bnds|forecast_reference_time_bnds|height_sh|               time|          time_bnds|bnds|precipitation_flux|     forecast_period|forecast_period_bnds|forecast_reference_time_bnds|               time|          time_bnds|bnds|m01s01i202|     forecast_period|forecast_period_bnds|forecast_reference_time_bnds|               time|          time_bnds|bnds|air_temperature|     forecast_period|forecast_period_bnds|forecast_reference_time_bnds|height_t1o5m|               time|          time_bnds|bnds|wind_speed_of_gust|     forecast_period|forecast_period_bnds|forecast_reference_time_bnds|height_windgust|               time|          time_bnds|\n",
      "+----------+---------+------------------+-----------------------+----+-----------------+--------------------+--------------------+----------------------------+---------+-------------------+-------------------+----+------------------+--------------------+--------------------+----------------------------+-------------------+-------------------+----+----------+--------------------+--------------------+----------------------------+-------------------+-------------------+----+---------------+--------------------+--------------------+----------------------------+------------+-------------------+-------------------+----+------------------+--------------------+--------------------+----------------------------+---------------+-------------------+-------------------+\n",
      "|-89.953125|1.7578125|       -2147483647|    2020-04-06 09:00:00|   0|              0.0|0 days 02:30:00.0...|                 0.0|         2020-04-06 00:00:00|      1.5|2020-04-06 11:30:00|2020-04-06 00:00:00|   1|      2.3841858E-6|0 days 02:00:00.0...|                 5.0|         2020-04-06 18:00:00|2020-04-06 11:00:00|2020-04-06 23:00:00|   0|       0.0|0 days 02:30:00.0...|                 0.0|         2020-04-06 00:00:00|2020-04-06 11:30:00|2020-04-06 00:00:00|   0|      216.34505|0 days 02:30:00.0...|                 0.0|         2020-04-06 00:00:00|         1.5|2020-04-06 11:30:00|2020-04-06 00:00:00|   1|            6.0625|0 days 02:30:00.0...|                 5.0|         2020-04-06 18:00:00|           10.0|2020-04-06 11:30:00|2020-04-06 23:00:00|\n",
      "|-89.953125|1.7578125|       -2147483647|    2020-04-06 09:00:00|   0|              0.0|0 days 02:30:00.0...|                 0.0|         2020-04-06 00:00:00|      1.5|2020-04-06 11:30:00|2020-04-06 00:00:00|   1|      2.3841858E-6|0 days 02:00:00.0...|                 5.0|         2020-04-06 18:00:00|2020-04-06 11:00:00|2020-04-06 23:00:00|   0|       0.0|0 days 02:30:00.0...|                 0.0|         2020-04-06 00:00:00|2020-04-06 11:30:00|2020-04-06 00:00:00|   0|      216.34505|0 days 02:30:00.0...|                 0.0|         2020-04-06 00:00:00|         1.5|2020-04-06 11:30:00|2020-04-06 00:00:00|   0|            6.0625|0 days 02:30:00.0...|                 0.0|         2020-04-06 00:00:00|           10.0|2020-04-06 11:30:00|2020-04-06 00:00:00|\n",
      "|-89.953125|1.7578125|       -2147483647|    2020-04-06 09:00:00|   0|              0.0|0 days 02:30:00.0...|                 0.0|         2020-04-06 00:00:00|      1.5|2020-04-06 11:30:00|2020-04-06 00:00:00|   1|      2.3841858E-6|0 days 02:00:00.0...|                 5.0|         2020-04-06 18:00:00|2020-04-06 11:00:00|2020-04-06 23:00:00|   0|       0.0|0 days 02:30:00.0...|                 0.0|         2020-04-06 00:00:00|2020-04-06 11:30:00|2020-04-06 00:00:00|   1|      216.34505|0 days 02:30:00.0...|                 5.0|         2020-04-06 18:00:00|         1.5|2020-04-06 11:30:00|2020-04-06 23:00:00|   1|            6.0625|0 days 02:30:00.0...|                 5.0|         2020-04-06 18:00:00|           10.0|2020-04-06 11:30:00|2020-04-06 23:00:00|\n",
      "|-89.953125|1.7578125|       -2147483647|    2020-04-06 09:00:00|   0|              0.0|0 days 02:30:00.0...|                 0.0|         2020-04-06 00:00:00|      1.5|2020-04-06 11:30:00|2020-04-06 00:00:00|   1|      2.3841858E-6|0 days 02:00:00.0...|                 5.0|         2020-04-06 18:00:00|2020-04-06 11:00:00|2020-04-06 23:00:00|   0|       0.0|0 days 02:30:00.0...|                 0.0|         2020-04-06 00:00:00|2020-04-06 11:30:00|2020-04-06 00:00:00|   1|      216.34505|0 days 02:30:00.0...|                 5.0|         2020-04-06 18:00:00|         1.5|2020-04-06 11:30:00|2020-04-06 23:00:00|   0|            6.0625|0 days 02:30:00.0...|                 0.0|         2020-04-06 00:00:00|           10.0|2020-04-06 11:30:00|2020-04-06 00:00:00|\n",
      "|-89.953125|1.7578125|       -2147483647|    2020-04-06 09:00:00|   0|              0.0|0 days 02:30:00.0...|                 0.0|         2020-04-06 00:00:00|      1.5|2020-04-06 11:30:00|2020-04-06 00:00:00|   1|      2.3841858E-6|0 days 02:00:00.0...|                 5.0|         2020-04-06 18:00:00|2020-04-06 11:00:00|2020-04-06 23:00:00|   1|       0.0|0 days 02:30:00.0...|                 5.0|         2020-04-06 18:00:00|2020-04-06 11:30:00|2020-04-06 23:00:00|   0|      216.34505|0 days 02:30:00.0...|                 0.0|         2020-04-06 00:00:00|         1.5|2020-04-06 11:30:00|2020-04-06 00:00:00|   1|            6.0625|0 days 02:30:00.0...|                 5.0|         2020-04-06 18:00:00|           10.0|2020-04-06 11:30:00|2020-04-06 23:00:00|\n",
      "+----------+---------+------------------+-----------------------+----+-----------------+--------------------+--------------------+----------------------------+---------+-------------------+-------------------+----+------------------+--------------------+--------------------+----------------------------+-------------------+-------------------+----+----------+--------------------+--------------------+----------------------------+-------------------+-------------------+----+---------------+--------------------+--------------------+----------------------------+------------+-------------------+-------------------+----+------------------+--------------------+--------------------+----------------------------+---------------+-------------------+-------------------+\n",
      "only showing top 5 rows\n",
      "\n"
     ]
    }
   ],
   "source": [
    "df4.show(5)"
   ]
  },
  {
   "cell_type": "code",
   "execution_count": 94,
   "metadata": {},
   "outputs": [
    {
     "name": "stdout",
     "output_type": "stream",
     "text": [
      "root\n",
      " |-- latitude: double (nullable = true)\n",
      " |-- longitude: double (nullable = true)\n",
      " |-- latitude_longitude: integer (nullable = true)\n",
      " |-- forecast_reference_time: timestamp (nullable = true)\n",
      " |-- bnds: integer (nullable = true)\n",
      " |-- specific_humidity: double (nullable = true)\n",
      " |-- forecast_period: string (nullable = true)\n",
      " |-- forecast_period_bnds: double (nullable = true)\n",
      " |-- forecast_reference_time_bnds: timestamp (nullable = true)\n",
      " |-- height_sh: double (nullable = true)\n",
      " |-- time: timestamp (nullable = true)\n",
      " |-- time_bnds: timestamp (nullable = true)\n",
      " |-- bnds: integer (nullable = true)\n",
      " |-- precipitation_flux: double (nullable = true)\n",
      " |-- forecast_period: string (nullable = true)\n",
      " |-- forecast_period_bnds: double (nullable = true)\n",
      " |-- forecast_reference_time_bnds: timestamp (nullable = true)\n",
      " |-- time: timestamp (nullable = true)\n",
      " |-- time_bnds: timestamp (nullable = true)\n",
      " |-- bnds: integer (nullable = true)\n",
      " |-- m01s01i202: double (nullable = true)\n",
      " |-- forecast_period: string (nullable = true)\n",
      " |-- forecast_period_bnds: double (nullable = true)\n",
      " |-- forecast_reference_time_bnds: timestamp (nullable = true)\n",
      " |-- time: timestamp (nullable = true)\n",
      " |-- time_bnds: timestamp (nullable = true)\n",
      " |-- bnds: integer (nullable = true)\n",
      " |-- air_temperature: double (nullable = true)\n",
      " |-- forecast_period: string (nullable = true)\n",
      " |-- forecast_period_bnds: double (nullable = true)\n",
      " |-- forecast_reference_time_bnds: timestamp (nullable = true)\n",
      " |-- height_t1o5m: double (nullable = true)\n",
      " |-- time: timestamp (nullable = true)\n",
      " |-- time_bnds: timestamp (nullable = true)\n",
      " |-- bnds: integer (nullable = true)\n",
      " |-- wind_speed_of_gust: double (nullable = true)\n",
      " |-- forecast_period: string (nullable = true)\n",
      " |-- forecast_period_bnds: double (nullable = true)\n",
      " |-- forecast_reference_time_bnds: timestamp (nullable = true)\n",
      " |-- height_windgust: double (nullable = true)\n",
      " |-- time: timestamp (nullable = true)\n",
      " |-- time_bnds: timestamp (nullable = true)\n",
      "\n"
     ]
    }
   ],
   "source": [
    "df4.printSchema()"
   ]
  },
  {
   "cell_type": "code",
   "execution_count": 95,
   "metadata": {},
   "outputs": [
    {
     "data": {
      "text/plain": [
       "DataFrame[latitude: double, longitude: double, latitude_longitude: int, forecast_reference_time: timestamp, bnds: int, specific_humidity: double, forecast_period: string, forecast_period_bnds: double, forecast_reference_time_bnds: timestamp, height_sh: double, time: timestamp, time_bnds: timestamp, bnds: int, precipitation_flux: double, forecast_period: string, forecast_period_bnds: double, forecast_reference_time_bnds: timestamp, time: timestamp, time_bnds: timestamp, bnds: int, m01s01i202: double, forecast_period: string, forecast_period_bnds: double, forecast_reference_time_bnds: timestamp, time: timestamp, time_bnds: timestamp, bnds: int, air_temperature: double, forecast_period: string, forecast_period_bnds: double, forecast_reference_time_bnds: timestamp, height_t1o5m: double, time: timestamp, time_bnds: timestamp, bnds: int, wind_speed_of_gust: double, forecast_period: string, forecast_period_bnds: double, forecast_reference_time_bnds: timestamp, height_windgust: double, time: timestamp, time_bnds: timestamp]"
      ]
     },
     "execution_count": 95,
     "metadata": {},
     "output_type": "execute_result"
    }
   ],
   "source": [
    "df4.cache()"
   ]
  },
  {
   "cell_type": "code",
   "execution_count": 96,
   "metadata": {},
   "outputs": [],
   "source": [
    "df5 = df4.select(['latitude','longitude','latitude_longitude','forecast_reference_time','specific_humidity','height_sh','precipitation_flux','m01s01i202','air_temperature','wind_speed_of_gust','height_windgust'])"
   ]
  },
  {
   "cell_type": "code",
   "execution_count": null,
   "metadata": {},
   "outputs": [],
   "source": [
    "df5.write.save(\"s3://123try2/df5_.csv\",format='csv',header=True)"
   ]
  },
  {
   "cell_type": "code",
   "execution_count": 98,
   "metadata": {},
   "outputs": [
    {
     "name": "stdout",
     "output_type": "stream",
     "text": [
      "root\n",
      " |-- latitude: double (nullable = true)\n",
      " |-- longitude: double (nullable = true)\n",
      " |-- latitude_longitude: integer (nullable = true)\n",
      " |-- forecast_reference_time: timestamp (nullable = true)\n",
      " |-- specific_humidity: double (nullable = true)\n",
      " |-- height_sh: double (nullable = true)\n",
      " |-- precipitation_flux: double (nullable = true)\n",
      " |-- m01s01i202: double (nullable = true)\n",
      " |-- air_temperature: double (nullable = true)\n",
      " |-- wind_speed_of_gust: double (nullable = true)\n",
      " |-- height_windgust: double (nullable = true)\n",
      "\n"
     ]
    }
   ],
   "source": [
    "df5.printSchema()"
   ]
  },
  {
   "cell_type": "code",
   "execution_count": 99,
   "metadata": {},
   "outputs": [
    {
     "data": {
      "text/plain": [
       "1101004800"
      ]
     },
     "execution_count": 99,
     "metadata": {},
     "output_type": "execute_result"
    }
   ],
   "source": [
    "df5.count()"
   ]
  },
  {
   "cell_type": "code",
   "execution_count": 100,
   "metadata": {},
   "outputs": [
    {
     "data": {
      "text/plain": [
       "DataFrame[latitude: double, longitude: double, latitude_longitude: int, forecast_reference_time: timestamp, specific_humidity: double, height_sh: double, precipitation_flux: double, m01s01i202: double, air_temperature: double, wind_speed_of_gust: double, height_windgust: double]"
      ]
     },
     "execution_count": 100,
     "metadata": {},
     "output_type": "execute_result"
    }
   ],
   "source": [
    "df5.cache()"
   ]
  },
  {
   "cell_type": "code",
   "execution_count": 102,
   "metadata": {},
   "outputs": [],
   "source": [
    "df5.write.save(\"s3://123try2/df5_2.csv\",format='csv',header=True)"
   ]
  },
  {
   "cell_type": "markdown",
   "metadata": {},
   "source": [
    "## Required Packages Loading"
   ]
  },
  {
   "cell_type": "code",
   "execution_count": 1,
   "metadata": {},
   "outputs": [],
   "source": [
    "import findspark\n",
    "findspark.init()\n",
    "\n",
    "from pyspark import SparkContext\n",
    "sc = SparkContext()\n",
    "\n",
    "from pyspark.sql import SparkSession\n",
    "spark = SparkSession.builder \\\n",
    "     .appName(\"Group Project\") \\\n",
    "     .getOrCreate()"
   ]
  },
  {
   "cell_type": "code",
   "execution_count": 2,
   "metadata": {},
   "outputs": [],
   "source": [
    "from pyspark.ml.feature import VectorAssembler\n",
    "from pyspark.ml.regression import LinearRegression\n",
    "from pyspark.ml.evaluation import RegressionEvaluator\n",
    "from pyspark.sql import functions as sf\n",
    "import pandas as pd\n",
    "import numpy as np\n",
    "#!pip install matplotlib\n",
    "import matplotlib.pyplot as plt\n",
    "#!pip install seaborn\n",
    "import seaborn as sns"
   ]
  },
  {
   "cell_type": "code",
   "execution_count": 3,
   "metadata": {},
   "outputs": [],
   "source": [
    "from pyspark.ml.feature import VectorAssembler"
   ]
  },
  {
   "cell_type": "code",
   "execution_count": 4,
   "metadata": {},
   "outputs": [],
   "source": [
    "import os,datetime,re\n",
    "from datetime import datetime"
   ]
  },
  {
   "cell_type": "markdown",
   "metadata": {},
   "source": [
    "## Data Cleaning"
   ]
  },
  {
   "cell_type": "code",
   "execution_count": 5,
   "metadata": {},
   "outputs": [],
   "source": [
    "#df = spark.read.csv(\"s3://123try2/final_version.csv\",header = True, inferSchema = True)\n",
    "#df.write.parquet('s3://123try2/final_version_parquet')"
   ]
  },
  {
   "cell_type": "code",
   "execution_count": 6,
   "metadata": {},
   "outputs": [],
   "source": [
    "df = spark.read.parquet(\"s3://123try2/final_version_parquet\")"
   ]
  },
  {
   "cell_type": "code",
   "execution_count": 7,
   "metadata": {},
   "outputs": [
    {
     "name": "stdout",
     "output_type": "stream",
     "text": [
      "root\n",
      " |-- latitude: double (nullable = true)\n",
      " |-- longitude: double (nullable = true)\n",
      " |-- latitude_longitude: integer (nullable = true)\n",
      " |-- forecast_reference_time: timestamp (nullable = true)\n",
      " |-- specific_humidity: double (nullable = true)\n",
      " |-- height_sh: double (nullable = true)\n",
      " |-- precipitation_flux: double (nullable = true)\n",
      " |-- m01s01i202: double (nullable = true)\n",
      " |-- air_temperature: double (nullable = true)\n",
      " |-- wind_speed_of_gust: double (nullable = true)\n",
      " |-- height_windgust: double (nullable = true)\n",
      "\n"
     ]
    }
   ],
   "source": [
    "df.printSchema()"
   ]
  },
  {
   "cell_type": "markdown",
   "metadata": {},
   "source": [
    "### Dropping duplicates"
   ]
  },
  {
   "cell_type": "code",
   "execution_count": 8,
   "metadata": {},
   "outputs": [],
   "source": [
    "df2 = df.dropDuplicates()"
   ]
  },
  {
   "cell_type": "markdown",
   "metadata": {},
   "source": [
    "### Fill Null values with 0"
   ]
  },
  {
   "cell_type": "code",
   "execution_count": 9,
   "metadata": {},
   "outputs": [],
   "source": [
    "df2 = df2.fillna({'specific_humidity':0,'precipitation_flux':0,'m01s01i202':0,'wind_speed_of_gust':0,'air_temperature':0})"
   ]
  },
  {
   "cell_type": "code",
   "execution_count": 10,
   "metadata": {},
   "outputs": [
    {
     "name": "stdout",
     "output_type": "stream",
     "text": [
      "root\n",
      " |-- latitude: double (nullable = true)\n",
      " |-- longitude: double (nullable = true)\n",
      " |-- latitude_longitude: integer (nullable = true)\n",
      " |-- forecast_reference_time: timestamp (nullable = true)\n",
      " |-- specific_humidity: double (nullable = false)\n",
      " |-- height_sh: double (nullable = true)\n",
      " |-- precipitation_flux: double (nullable = false)\n",
      " |-- m01s01i202: double (nullable = false)\n",
      " |-- air_temperature: double (nullable = false)\n",
      " |-- wind_speed_of_gust: double (nullable = false)\n",
      " |-- height_windgust: double (nullable = true)\n",
      "\n"
     ]
    }
   ],
   "source": [
    "df2.printSchema()"
   ]
  },
  {
   "cell_type": "code",
   "execution_count": 11,
   "metadata": {},
   "outputs": [
    {
     "name": "stdout",
     "output_type": "stream",
     "text": [
      "+---------+-----------+------------------+-----------------------+-----------------+---------+------------------+----------+---------------+------------------+---------------+\n",
      "| latitude|  longitude|latitude_longitude|forecast_reference_time|specific_humidity|height_sh|precipitation_flux|m01s01i202|air_temperature|wind_speed_of_gust|height_windgust|\n",
      "+---------+-----------+------------------+-----------------------+-----------------+---------+------------------+----------+---------------+------------------+---------------+\n",
      "|28.921875|132.8203125|       -2147483647|    2020-04-05 09:00:00|      0.007863362|      1.5|               0.0| 271.19922|      291.22202|          9.911458|           10.0|\n",
      "|29.015625|170.2265625|       -2147483647|    2020-04-02 09:00:00|      0.010691325|      1.5|      3.1789145E-7| 220.01497|      292.25522|         10.770833|           10.0|\n",
      "|29.015625|278.6484375|       -2147483647|    2020-04-06 09:00:00|      0.011779785|      1.5|       8.265178E-6|   215.847|      293.06772|          5.765625|           10.0|\n",
      "|29.390625|170.3671875|       -2147483647|    2020-04-01 09:00:00|      0.009796143|      1.5|      4.7683716E-7| 250.01237|       291.9453|         6.9739585|           10.0|\n",
      "|30.046875| 33.8203125|       -2147483647|    2020-04-03 09:00:00|      0.005594889|      1.5|               0.0| 187.63672|       290.9297|         6.4895835|           10.0|\n",
      "|30.234375| 99.9140625|       -2147483647|    2020-04-05 09:00:00|     0.0030212402|      1.5|       6.834666E-6|  175.0573|      269.01236|         4.4635415|           10.0|\n",
      "|30.328125| 48.3046875|       -2147483647|    2020-04-07 09:00:00|     0.0065816245|      1.5|      1.5894572E-7| 199.46028|      300.48502|           6.96875|           10.0|\n",
      "|30.609375| 56.4609375|       -2147483647|    2020-04-07 09:00:00|     0.0035807292|      1.5|       7.947286E-7|  236.3431|       288.6263|         4.9010415|           10.0|\n",
      "|30.890625| 35.6484375|       -2147483647|    2020-04-04 09:00:00|     0.0047912598|      1.5|               0.0| 215.04753|      294.70703|         7.5260415|           10.0|\n",
      "|31.078125|314.5078125|       -2147483647|    2020-04-05 09:00:00|      0.012715657|      1.5|        2.22524E-6| 269.76303|      294.24414|         11.229167|           10.0|\n",
      "|31.171875|234.0703125|       -2147483647|    2020-04-02 09:00:00|     0.0071004233|      1.5|      1.5894572E-7| 234.85612|      285.92773|         12.614583|           10.0|\n",
      "|31.359375|321.3984375|       -2147483647|    2020-04-05 09:00:00|      0.013824463|      1.5|       7.931391E-5| 252.75652|        293.875|               9.0|           10.0|\n",
      "|31.546875| 26.2265625|       -2147483647|    2020-04-05 09:00:00|      0.008402507|      1.5|      3.1789145E-7| 204.50195|      290.42838|          11.84375|           10.0|\n",
      "|31.546875|286.2421875|       -2147483647|    2020-04-02 09:00:00|     0.0073954263|      1.5|      5.2452087E-6| 145.44727|      290.75327|         14.901042|           10.0|\n",
      "|31.921875| 43.5234375|       -2147483647|    2020-04-07 09:00:00|     0.0071614585|      1.5|      1.2397766E-5|114.828125|      295.36655|           7.46875|           10.0|\n",
      "|31.921875| 75.8671875|       -2147483647|    2020-04-05 09:00:00|      0.009897868|      1.5|      1.4305115E-6| 238.78711|      294.27084|         3.4947917|           10.0|\n",
      "|32.203125|  0.7734375|       -2147483647|    2020-04-03 09:00:00|     0.0040283203|      1.5|               0.0| 194.84636|      286.79102|         13.255208|           10.0|\n",
      "|33.140625|172.3359375|       -2147483647|    2020-04-02 09:00:00|      0.009633382|      1.5|      3.6557515E-6| 239.95508|      290.26822|         10.234375|           10.0|\n",
      "|33.328125| 31.9921875|       -2147483647|    2020-04-05 09:00:00|      0.010528564|      1.5|               0.0| 248.25977|       291.2936|         11.802083|           10.0|\n",
      "|33.328125| 90.4921875|       -2147483647|    2020-04-05 09:00:00|     0.0010477701|      1.5|      1.5894572E-7| 191.96028|      266.45898|          9.411458|           10.0|\n",
      "+---------+-----------+------------------+-----------------------+-----------------+---------+------------------+----------+---------------+------------------+---------------+\n",
      "only showing top 20 rows\n",
      "\n"
     ]
    }
   ],
   "source": [
    "df2.show()"
   ]
  },
  {
   "cell_type": "markdown",
   "metadata": {},
   "source": [
    "## Visualization"
   ]
  },
  {
   "cell_type": "code",
   "execution_count": 12,
   "metadata": {},
   "outputs": [
    {
     "data": {
      "text/plain": [
       "DataFrame[latitude: double, longitude: double, latitude_longitude: int, forecast_reference_time: timestamp, specific_humidity: double, height_sh: double, precipitation_flux: double, m01s01i202: double, air_temperature: double, wind_speed_of_gust: double, height_windgust: double]"
      ]
     },
     "execution_count": 12,
     "metadata": {},
     "output_type": "execute_result"
    }
   ],
   "source": [
    "df2.createOrReplaceTempView(\"df22\")\n",
    "df2.cache()"
   ]
  },
  {
   "cell_type": "markdown",
   "metadata": {},
   "source": [
    "### Create the column with combination of latitude and longtitude: lat_long"
   ]
  },
  {
   "cell_type": "code",
   "execution_count": 30,
   "metadata": {},
   "outputs": [],
   "source": [
    "df = df.withColumn('lat_long', sf.concat(sf.col('latitude'),sf.lit('_'), sf.col('longitude')))"
   ]
  },
  {
   "cell_type": "code",
   "execution_count": 21,
   "metadata": {},
   "outputs": [],
   "source": [
    "df.createOrReplaceTempView(\"df\")"
   ]
  },
  {
   "cell_type": "code",
   "execution_count": 22,
   "metadata": {},
   "outputs": [],
   "source": [
    "df_avg = spark.sql(\"\"\"\n",
    "                   SELECT lat_long, avg(air_temperature) as avg_temp, avg(specific_humidity) as avg_humidity, avg(height_sh) as avg_height, avg(precipitation_flux) as avg_prec, avg(wind_speed_of_gust) as avg_windspeed, avg(height_windgust) as avg_height_windgust  \n",
    "                   FROM df \n",
    "                   Group By lat_long, forecast_reference_time\n",
    "                   \"\"\")"
   ]
  },
  {
   "cell_type": "code",
   "execution_count": 24,
   "metadata": {},
   "outputs": [],
   "source": [
    "df_time_avg = spark.sql(\"\"\"\n",
    "                   SELECT forecast_reference_time, avg(air_temperature) as avg_temp, avg(specific_humidity) as avg_humidity, avg(height_sh) as avg_height, avg(precipitation_flux) as avg_prec, avg(wind_speed_of_gust) as avg_windspeed, avg(height_windgust) as avg_height_windgust  \n",
    "                   FROM df \n",
    "                   Group By forecast_reference_time\n",
    "                   Order By forecast_reference_time\n",
    "                   \"\"\").cache()"
   ]
  },
  {
   "cell_type": "code",
   "execution_count": 26,
   "metadata": {},
   "outputs": [
    {
     "name": "stderr",
     "output_type": "stream",
     "text": [
      "/home/hadoop/miniconda/lib/python3.7/site-packages/pyarrow/util.py:39: FutureWarning: pyarrow.open_stream is deprecated as of 0.17.0, please use pyarrow.ipc.open_stream instead\n",
      "  warnings.warn(msg, FutureWarning)\n"
     ]
    }
   ],
   "source": [
    "df_time_avg_pandas = df_time_avg.toPandas()"
   ]
  },
  {
   "cell_type": "code",
   "execution_count": 27,
   "metadata": {},
   "outputs": [],
   "source": [
    "df_time_avg_pandas = df_time_avg_pandas.dropna()"
   ]
  },
  {
   "cell_type": "code",
   "execution_count": 28,
   "metadata": {},
   "outputs": [
    {
     "data": {
      "text/html": [
       "<div>\n",
       "<style scoped>\n",
       "    .dataframe tbody tr th:only-of-type {\n",
       "        vertical-align: middle;\n",
       "    }\n",
       "\n",
       "    .dataframe tbody tr th {\n",
       "        vertical-align: top;\n",
       "    }\n",
       "\n",
       "    .dataframe thead th {\n",
       "        text-align: right;\n",
       "    }\n",
       "</style>\n",
       "<table border=\"1\" class=\"dataframe\">\n",
       "  <thead>\n",
       "    <tr style=\"text-align: right;\">\n",
       "      <th></th>\n",
       "      <th>forecast_reference_time</th>\n",
       "      <th>avg_temp</th>\n",
       "      <th>avg_humidity</th>\n",
       "      <th>avg_height</th>\n",
       "      <th>avg_prec</th>\n",
       "      <th>avg_windspeed</th>\n",
       "      <th>avg_height_windgust</th>\n",
       "    </tr>\n",
       "  </thead>\n",
       "  <tbody>\n",
       "    <tr>\n",
       "      <th>1</th>\n",
       "      <td>2020-04-01 09:00:00</td>\n",
       "      <td>277.442359</td>\n",
       "      <td>0.007405</td>\n",
       "      <td>1.5</td>\n",
       "      <td>0.000029</td>\n",
       "      <td>10.080905</td>\n",
       "      <td>10.0</td>\n",
       "    </tr>\n",
       "    <tr>\n",
       "      <th>2</th>\n",
       "      <td>2020-04-02 09:00:00</td>\n",
       "      <td>277.114163</td>\n",
       "      <td>0.007354</td>\n",
       "      <td>1.5</td>\n",
       "      <td>0.000030</td>\n",
       "      <td>10.088855</td>\n",
       "      <td>10.0</td>\n",
       "    </tr>\n",
       "    <tr>\n",
       "      <th>3</th>\n",
       "      <td>2020-04-03 09:00:00</td>\n",
       "      <td>277.116855</td>\n",
       "      <td>0.007346</td>\n",
       "      <td>1.5</td>\n",
       "      <td>0.000029</td>\n",
       "      <td>10.073197</td>\n",
       "      <td>10.0</td>\n",
       "    </tr>\n",
       "    <tr>\n",
       "      <th>4</th>\n",
       "      <td>2020-04-04 09:00:00</td>\n",
       "      <td>277.341561</td>\n",
       "      <td>0.007364</td>\n",
       "      <td>1.5</td>\n",
       "      <td>0.000030</td>\n",
       "      <td>9.881298</td>\n",
       "      <td>10.0</td>\n",
       "    </tr>\n",
       "    <tr>\n",
       "      <th>5</th>\n",
       "      <td>2020-04-05 09:00:00</td>\n",
       "      <td>277.421290</td>\n",
       "      <td>0.007375</td>\n",
       "      <td>1.5</td>\n",
       "      <td>0.000028</td>\n",
       "      <td>9.664605</td>\n",
       "      <td>10.0</td>\n",
       "    </tr>\n",
       "    <tr>\n",
       "      <th>6</th>\n",
       "      <td>2020-04-06 09:00:00</td>\n",
       "      <td>277.487163</td>\n",
       "      <td>0.007363</td>\n",
       "      <td>1.5</td>\n",
       "      <td>0.000029</td>\n",
       "      <td>9.650821</td>\n",
       "      <td>10.0</td>\n",
       "    </tr>\n",
       "    <tr>\n",
       "      <th>7</th>\n",
       "      <td>2020-04-07 09:00:00</td>\n",
       "      <td>277.463202</td>\n",
       "      <td>0.007357</td>\n",
       "      <td>1.5</td>\n",
       "      <td>0.000029</td>\n",
       "      <td>9.499867</td>\n",
       "      <td>10.0</td>\n",
       "    </tr>\n",
       "  </tbody>\n",
       "</table>\n",
       "</div>"
      ],
      "text/plain": [
       "  forecast_reference_time    avg_temp  avg_humidity  avg_height  avg_prec  \\\n",
       "1     2020-04-01 09:00:00  277.442359      0.007405         1.5  0.000029   \n",
       "2     2020-04-02 09:00:00  277.114163      0.007354         1.5  0.000030   \n",
       "3     2020-04-03 09:00:00  277.116855      0.007346         1.5  0.000029   \n",
       "4     2020-04-04 09:00:00  277.341561      0.007364         1.5  0.000030   \n",
       "5     2020-04-05 09:00:00  277.421290      0.007375         1.5  0.000028   \n",
       "6     2020-04-06 09:00:00  277.487163      0.007363         1.5  0.000029   \n",
       "7     2020-04-07 09:00:00  277.463202      0.007357         1.5  0.000029   \n",
       "\n",
       "   avg_windspeed  avg_height_windgust  \n",
       "1      10.080905                 10.0  \n",
       "2      10.088855                 10.0  \n",
       "3      10.073197                 10.0  \n",
       "4       9.881298                 10.0  \n",
       "5       9.664605                 10.0  \n",
       "6       9.650821                 10.0  \n",
       "7       9.499867                 10.0  "
      ]
     },
     "execution_count": 28,
     "metadata": {},
     "output_type": "execute_result"
    }
   ],
   "source": [
    "df_time_avg_pandas"
   ]
  },
  {
   "cell_type": "code",
   "execution_count": 29,
   "metadata": {},
   "outputs": [],
   "source": [
    "y_avg_temp = df_time_avg_pandas['avg_temp'].tolist()\n",
    "y_avg_humidity = df_time_avg_pandas['avg_humidity'].tolist()\n",
    "y_avg_height = df_time_avg_pandas['avg_height'].tolist()\n",
    "y_avg_prec = df_time_avg_pandas['avg_prec'].tolist()\n",
    "y_avg_windspeed = df_time_avg_pandas['avg_windspeed'].tolist()\n",
    "y_avg_height_windgust = df_time_avg_pandas['avg_height_windgust'].tolist()\n",
    "x_time = df_time_avg_pandas['forecast_reference_time']"
   ]
  },
  {
   "cell_type": "markdown",
   "metadata": {},
   "source": [
    "### Average Temperature from April 1st to 7th"
   ]
  },
  {
   "cell_type": "code",
   "execution_count": 31,
   "metadata": {},
   "outputs": [
    {
     "data": {
      "image/png": "[encoded data removed]",
      "text/plain": [
       "<Figure size 432x288 with 1 Axes>"
      ]
     },
     "metadata": {
      "needs_background": "light"
     },
     "output_type": "display_data"
    }
   ],
   "source": [
    "plt.plot(x_time, y_avg_temp)\n",
    "plt.ylabel('Average Air Temperture')\n",
    "plt.xlabel('April 1st to 7th')\n",
    "plt.title('Average Air Temperture vs Time')\n",
    "plt.legend(['Average Air Temperture'], loc= 'lower right')\n",
    "for a,b in zip(x_time,y_avg_temp):\n",
    "    plt.text(a,b,round(b,2), ha='center', va='bottom', fontsize = 8)\n",
    "plt.tick_params(axis ='x', rotation = 45)\n",
    "plt.show()"
   ]
  },
  {
   "cell_type": "markdown",
   "metadata": {},
   "source": [
    "### Average Humidity from April 1st to 7th"
   ]
  },
  {
   "cell_type": "code",
   "execution_count": 32,
   "metadata": {},
   "outputs": [
    {
     "data": {
      "image/png": "[encoded data removed]",
      "text/plain": [
       "<Figure size 432x288 with 1 Axes>"
      ]
     },
     "metadata": {
      "needs_background": "light"
     },
     "output_type": "display_data"
    }
   ],
   "source": [
    "plt.plot(x_time, y_avg_humidity)\n",
    "plt.ylabel('Average Humidity')\n",
    "plt.xlabel('April 1st to 7th')\n",
    "plt.title('Average Humidity vs Time')\n",
    "plt.legend(['Average Humidity'], loc= 'upper right')\n",
    "for a,b in zip(x_time,y_avg_humidity):\n",
    "    plt.text(a,b,round(b,6), ha='center', va='bottom', fontsize = 8)\n",
    "plt.tick_params(axis ='x', rotation = 45)\n",
    "plt.show()"
   ]
  },
  {
   "cell_type": "markdown",
   "metadata": {},
   "source": [
    "### Average Height_sh from April 1st to 7th"
   ]
  },
  {
   "cell_type": "code",
   "execution_count": 33,
   "metadata": {},
   "outputs": [
    {
     "data": {
      "image/png": "[encoded data removed]",
      "text/plain": [
       "<Figure size 432x288 with 1 Axes>"
      ]
     },
     "metadata": {
      "needs_background": "light"
     },
     "output_type": "display_data"
    }
   ],
   "source": [
    "plt.plot(x_time, y_avg_height)\n",
    "plt.ylabel('Average Height_sh')\n",
    "plt.xlabel('April 1st to 7th')\n",
    "plt.title('Average Height_sh vs Time')\n",
    "plt.legend(['Average Height_sh'], loc= 'upper right')\n",
    "for a,b in zip(x_time,y_avg_height):\n",
    "    plt.text(a,b,round(b,10), ha='center', va='bottom', fontsize = 8)\n",
    "plt.tick_params(axis ='x', rotation = 45)\n",
    "plt.show()"
   ]
  },
  {
   "cell_type": "markdown",
   "metadata": {},
   "source": [
    "### Precipitation flux from April 1st to 7th"
   ]
  },
  {
   "cell_type": "code",
   "execution_count": 34,
   "metadata": {},
   "outputs": [
    {
     "data": {
      "image/png": "[encoded data removed]",
      "text/plain": [
       "<Figure size 432x288 with 1 Axes>"
      ]
     },
     "metadata": {
      "needs_background": "light"
     },
     "output_type": "display_data"
    }
   ],
   "source": [
    "plt.plot(x_time, y_avg_prec)\n",
    "plt.ylabel('Average Precipitation flux')\n",
    "plt.xlabel('April 1st to 7th')\n",
    "plt.title('Average Precipitation flux vs Time')\n",
    "plt.legend(['Average Precipitation flux'], loc= 'lower left')\n",
    "for a,b in zip(x_time,y_avg_prec):\n",
    "    plt.text(a,b,round(b,6), ha='center', va='bottom', fontsize = 8)\n",
    "plt.tick_params(axis ='x', rotation = 45)\n",
    "plt.show()"
   ]
  },
  {
   "cell_type": "markdown",
   "metadata": {},
   "source": [
    "### Wind speed of gust from April 1st to 7th"
   ]
  },
  {
   "cell_type": "code",
   "execution_count": 35,
   "metadata": {},
   "outputs": [
    {
     "data": {
      "image/png": "[encoded data removed]",
      "text/plain": [
       "<Figure size 432x288 with 1 Axes>"
      ]
     },
     "metadata": {
      "needs_background": "light"
     },
     "output_type": "display_data"
    }
   ],
   "source": [
    "plt.plot(x_time, y_avg_windspeed)\n",
    "plt.ylabel('Average Wind speed of gust')\n",
    "plt.xlabel('April 1st to 7th')\n",
    "plt.title('Average Wind speed of gust vs Time')\n",
    "plt.legend(['Average Wind speed of gust'], loc= 'upper right')\n",
    "for a,b in zip(x_time,y_avg_windspeed):\n",
    "    plt.text(a,b,round(b,3), ha='center', va='bottom', fontsize = 8)\n",
    "plt.tick_params(axis ='x', rotation = 45)\n",
    "plt.show()"
   ]
  },
  {
   "cell_type": "markdown",
   "metadata": {},
   "source": [
    "### Height of windgust from April 1st to 7th"
   ]
  },
  {
   "cell_type": "code",
   "execution_count": 36,
   "metadata": {},
   "outputs": [
    {
     "data": {
      "image/png": "[encoded data removed]",
      "text/plain": [
       "<Figure size 432x288 with 1 Axes>"
      ]
     },
     "metadata": {
      "needs_background": "light"
     },
     "output_type": "display_data"
    }
   ],
   "source": [
    "plt.plot(x_time, y_avg_height_windgust)\n",
    "plt.ylabel('Average Height of windgust')\n",
    "plt.xlabel('April 1st to 7th')\n",
    "plt.title('Average Height of windgust vs Time')\n",
    "plt.legend(['Average Height of windgust'], loc= 'upper right')\n",
    "for a,b in zip(x_time,y_avg_height_windgust):\n",
    "    plt.text(a,b,round(b,10), ha='center', va='bottom', fontsize = 8)\n",
    "plt.tick_params(axis ='x', rotation = 45)\n",
    "plt.show()"
   ]
  },
  {
   "cell_type": "markdown",
   "metadata": {},
   "source": [
    "## SQL Data Manipulation"
   ]
  },
  {
   "cell_type": "code",
   "execution_count": 37,
   "metadata": {},
   "outputs": [],
   "source": [
    "df.createOrReplaceTempView(\"df\")"
   ]
  },
  {
   "cell_type": "markdown",
   "metadata": {},
   "source": [
    "#### Find how many unique time exists in our dataset"
   ]
  },
  {
   "cell_type": "code",
   "execution_count": 38,
   "metadata": {},
   "outputs": [],
   "source": [
    "df_time=spark.sql(\"select distinct forecast_reference_time from df\")"
   ]
  },
  {
   "cell_type": "code",
   "execution_count": 39,
   "metadata": {},
   "outputs": [
    {
     "name": "stdout",
     "output_type": "stream",
     "text": [
      "+-----------------------+\n",
      "|forecast_reference_time|\n",
      "+-----------------------+\n",
      "|    2020-04-06 09:00:00|\n",
      "|                   null|\n",
      "|    2020-04-02 09:00:00|\n",
      "|    2020-04-03 09:00:00|\n",
      "|    2020-04-05 09:00:00|\n",
      "|    2020-04-04 09:00:00|\n",
      "|    2020-04-07 09:00:00|\n",
      "|    2020-04-01 09:00:00|\n",
      "+-----------------------+\n",
      "\n"
     ]
    }
   ],
   "source": [
    "df_time.show()"
   ]
  },
  {
   "cell_type": "markdown",
   "metadata": {},
   "source": [
    "#### Extract the Y-M-D  from forecast_reference_time as a new column"
   ]
  },
  {
   "cell_type": "code",
   "execution_count": 40,
   "metadata": {},
   "outputs": [],
   "source": [
    "df_ymd=spark.sql(\"select regexp_extract(forecast_reference_time,'^[0-9]+\\-[0-9]+\\-[0-9]+',0) as ymd,* from df\")"
   ]
  },
  {
   "cell_type": "code",
   "execution_count": 41,
   "metadata": {},
   "outputs": [
    {
     "name": "stdout",
     "output_type": "stream",
     "text": [
      "+----------+---------+-----------+------------------+-----------------------+-----------------+---------+------------------+----------+---------------+------------------+---------------+--------------------+\n",
      "|       ymd| latitude|  longitude|latitude_longitude|forecast_reference_time|specific_humidity|height_sh|precipitation_flux|m01s01i202|air_temperature|wind_speed_of_gust|height_windgust|            lat_long|\n",
      "+----------+---------+-----------+------------------+-----------------------+-----------------+---------+------------------+----------+---------------+------------------+---------------+--------------------+\n",
      "|2020-04-01|28.359375|351.0703125|       -2147483647|    2020-04-01 09:00:00|      0.005533854|      1.5|               0.0| 238.34895|      292.76758|          9.208333|           10.0|28.359375_351.070...|\n",
      "|2020-04-01|28.359375|351.0703125|       -2147483647|    2020-04-01 09:00:00|      0.005533854|      1.5|               0.0| 238.34895|      292.76758|          9.208333|           10.0|28.359375_351.070...|\n",
      "|2020-04-01|28.359375|351.0703125|       -2147483647|    2020-04-01 09:00:00|      0.005533854|      1.5|               0.0| 238.34895|      292.76758|          9.208333|           10.0|28.359375_351.070...|\n",
      "|2020-04-01|28.359375|351.0703125|       -2147483647|    2020-04-01 09:00:00|      0.005533854|      1.5|               0.0| 238.34895|      292.76758|          9.208333|           10.0|28.359375_351.070...|\n",
      "|2020-04-01|28.359375|351.0703125|       -2147483647|    2020-04-01 09:00:00|      0.005533854|      1.5|               0.0| 238.34895|      292.76758|          9.208333|           10.0|28.359375_351.070...|\n",
      "|2020-04-05|28.453125|  0.9140625|       -2147483647|    2020-04-05 09:00:00|     0.0030517578|      1.5|               0.0| 213.85027|      295.32095|         10.677083|           10.0| 28.453125_0.9140625|\n",
      "|2020-04-05|28.453125|  0.9140625|       -2147483647|    2020-04-05 09:00:00|     0.0030517578|      1.5|               0.0| 213.85027|      295.32095|         10.677083|           10.0| 28.453125_0.9140625|\n",
      "|2020-04-05|28.453125|  0.9140625|       -2147483647|    2020-04-05 09:00:00|     0.0030517578|      1.5|               0.0| 213.85027|      295.32095|         10.677083|           10.0| 28.453125_0.9140625|\n",
      "|2020-04-05|28.453125|  0.9140625|       -2147483647|    2020-04-05 09:00:00|     0.0030517578|      1.5|               0.0| 213.85027|      295.32095|         10.677083|           10.0| 28.453125_0.9140625|\n",
      "|2020-04-05|28.453125|  0.9140625|       -2147483647|    2020-04-05 09:00:00|     0.0030517578|      1.5|               0.0| 213.85027|      295.32095|         10.677083|           10.0| 28.453125_0.9140625|\n",
      "|2020-04-05|28.453125|  0.9140625|       -2147483647|    2020-04-05 09:00:00|     0.0030517578|      1.5|               0.0| 213.85027|      295.32095|         10.677083|           10.0| 28.453125_0.9140625|\n",
      "|2020-04-05|28.453125|  0.9140625|       -2147483647|    2020-04-05 09:00:00|     0.0030517578|      1.5|               0.0| 213.85027|      295.32095|         10.677083|           10.0| 28.453125_0.9140625|\n",
      "|2020-04-05|28.453125|  0.9140625|       -2147483647|    2020-04-05 09:00:00|     0.0030517578|      1.5|               0.0| 213.85027|      295.32095|         10.677083|           10.0| 28.453125_0.9140625|\n",
      "|2020-04-05|28.453125|  0.9140625|       -2147483647|    2020-04-05 09:00:00|     0.0030517578|      1.5|               0.0| 213.85027|      295.32095|         10.677083|           10.0| 28.453125_0.9140625|\n",
      "|2020-04-05|28.453125|  0.9140625|       -2147483647|    2020-04-05 09:00:00|     0.0030517578|      1.5|               0.0| 213.85027|      295.32095|         10.677083|           10.0| 28.453125_0.9140625|\n",
      "|2020-04-05|28.453125|  0.9140625|       -2147483647|    2020-04-05 09:00:00|     0.0030517578|      1.5|               0.0| 213.85027|      295.32095|         10.677083|           10.0| 28.453125_0.9140625|\n",
      "|2020-04-05|28.453125|  0.9140625|       -2147483647|    2020-04-05 09:00:00|     0.0030517578|      1.5|               0.0| 213.85027|      295.32095|         10.677083|           10.0| 28.453125_0.9140625|\n",
      "|2020-04-05|28.453125|  0.9140625|       -2147483647|    2020-04-05 09:00:00|     0.0030517578|      1.5|               0.0| 213.85027|      295.32095|         10.677083|           10.0| 28.453125_0.9140625|\n",
      "|2020-04-05|28.453125|  0.9140625|       -2147483647|    2020-04-05 09:00:00|     0.0030517578|      1.5|               0.0| 213.85027|      295.32095|         10.677083|           10.0| 28.453125_0.9140625|\n",
      "|2020-04-05|28.453125|  0.9140625|       -2147483647|    2020-04-05 09:00:00|     0.0030517578|      1.5|               0.0| 213.85027|      295.32095|         10.677083|           10.0| 28.453125_0.9140625|\n",
      "+----------+---------+-----------+------------------+-----------------------+-----------------+---------+------------------+----------+---------------+------------------+---------------+--------------------+\n",
      "only showing top 20 rows\n",
      "\n"
     ]
    }
   ],
   "source": [
    "df_ymd.show()"
   ]
  },
  {
   "cell_type": "code",
   "execution_count": 42,
   "metadata": {},
   "outputs": [],
   "source": [
    "df_ymd.createOrReplaceTempView(\"df_ymd\")"
   ]
  },
  {
   "cell_type": "markdown",
   "metadata": {},
   "source": [
    "#### calculate  average precipitation_flux,air_temperature,specific_humidity based on time"
   ]
  },
  {
   "cell_type": "code",
   "execution_count": 43,
   "metadata": {},
   "outputs": [],
   "source": [
    "df_avg_time = spark.sql(\"SELECT ymd ,avg(specific_humidity) as time_avg_humidity, avg(precipitation_flux) as time_avg_prec, avg(air_temperature) as time_avg_temp FROM df_ymd Group By ymd order by ymd\")"
   ]
  },
  {
   "cell_type": "code",
   "execution_count": 68,
   "metadata": {},
   "outputs": [
    {
     "name": "stdout",
     "output_type": "stream",
     "text": [
      "+----------+--------------------+--------------------+------------------+\n",
      "|       ymd|   time_avg_humidity|       time_avg_prec|     time_avg_temp|\n",
      "+----------+--------------------+--------------------+------------------+\n",
      "|2020-04-01|0.007405344704752854|2.946720426865492...| 277.4423592083297|\n",
      "|2020-04-02|0.007353759521743...|2.965683402688113E-5| 277.1141633362552|\n",
      "|2020-04-03|0.007346095837840987|2.878448008156477...| 277.1168548796629|\n",
      "|2020-04-04| 0.00736423133384262|2.977415884402474E-5| 277.3415609078695|\n",
      "|2020-04-05|0.007374548851880099|2.846031479511246E-5|277.42129035234336|\n",
      "|2020-04-06|0.007362980635707788|2.879408399056845...| 277.4871626003258|\n",
      "|2020-04-07|0.007357078912436868|2.893753292239307E-5| 277.4632015057895|\n",
      "+----------+--------------------+--------------------+------------------+\n",
      "\n"
     ]
    }
   ],
   "source": [
    "df_avg_time = df_avg_time.dropna()\n",
    "df_avg_time.show(10)"
   ]
  },
  {
   "cell_type": "markdown",
   "metadata": {},
   "source": [
    "#### calculate  max  air_temperature,height_sh,wind_speed_of_gust based on time"
   ]
  },
  {
   "cell_type": "code",
   "execution_count": 45,
   "metadata": {},
   "outputs": [],
   "source": [
    "df_max_time = spark.sql(\"SELECT ymd ,max(air_temperature) as time_max_humidity, max(wind_speed_of_gust) as time_max_windspeed, max(height_sh) as time_max_sh_height FROM df_ymd Group By ymd order by ymd\")"
   ]
  },
  {
   "cell_type": "code",
   "execution_count": 69,
   "metadata": {},
   "outputs": [
    {
     "name": "stdout",
     "output_type": "stream",
     "text": [
      "+----------+-----------------+------------------+------------------+\n",
      "|       ymd|time_max_humidity|time_max_windspeed|time_max_sh_height|\n",
      "+----------+-----------------+------------------+------------------+\n",
      "|2020-04-01|         311.6061|         43.635418|               1.5|\n",
      "|2020-04-02|         310.9707|         41.151043|               1.5|\n",
      "|2020-04-03|         311.5189|         47.661457|               1.5|\n",
      "|2020-04-04|         311.5586|         44.140625|               1.5|\n",
      "|2020-04-05|         310.9974|         41.973957|               1.5|\n",
      "|2020-04-06|        310.87564|         50.229168|               1.5|\n",
      "|2020-04-07|        310.46225|         41.833332|               1.5|\n",
      "+----------+-----------------+------------------+------------------+\n",
      "\n"
     ]
    }
   ],
   "source": [
    "df_max_time = df_max_time.dropna()\n",
    "df_max_time.show(10)"
   ]
  },
  {
   "cell_type": "markdown",
   "metadata": {},
   "source": [
    "#### calculate  min  air_temperature,height_sh,wind_speed_of_gust based on time"
   ]
  },
  {
   "cell_type": "code",
   "execution_count": 47,
   "metadata": {},
   "outputs": [],
   "source": [
    "df_min_time = spark.sql(\"SELECT ymd ,min(air_temperature) as time_min_humidity, min(wind_speed_of_gust) as time_min_windspeed, min(height_sh) as time_min_sh_height FROM df_ymd Group By ymd order by ymd\")"
   ]
  },
  {
   "cell_type": "code",
   "execution_count": 70,
   "metadata": {},
   "outputs": [
    {
     "name": "stdout",
     "output_type": "stream",
     "text": [
      "+----------+-----------------+------------------+------------------+\n",
      "|       ymd|time_min_humidity|time_min_windspeed|time_min_sh_height|\n",
      "+----------+-----------------+------------------+------------------+\n",
      "|2020-04-01|         206.2793|        0.27604166|               1.5|\n",
      "|2020-04-02|         200.5638|        0.22395833|               1.5|\n",
      "|2020-04-03|         198.2819|        0.27604166|               1.5|\n",
      "|2020-04-04|        196.59114|              0.25|               1.5|\n",
      "|2020-04-05|        195.02734|        0.22916667|               1.5|\n",
      "|2020-04-06|        192.69922|        0.26041666|               1.5|\n",
      "|2020-04-07|        191.41862|        0.19791667|               1.5|\n",
      "+----------+-----------------+------------------+------------------+\n",
      "\n"
     ]
    }
   ],
   "source": [
    "df_min_time = df_min_time.dropna()\n",
    "df_min_time.show(10)"
   ]
  },
  {
   "cell_type": "markdown",
   "metadata": {},
   "source": [
    "#### calculate average value of specific_humidity,height_sh,precipitation_flux and air_temperature based on lat-long"
   ]
  },
  {
   "cell_type": "code",
   "execution_count": 72,
   "metadata": {},
   "outputs": [],
   "source": [
    "df_avg = spark.sql(\"SELECT lat_long, avg(specific_humidity) as avg_humidity, avg(height_sh) as avg_height, avg(precipitation_flux) as avg_prec, avg(air_temperature) as avg_temp FROM df Group By lat_long\")"
   ]
  },
  {
   "cell_type": "code",
   "execution_count": 73,
   "metadata": {},
   "outputs": [
    {
     "name": "stdout",
     "output_type": "stream",
     "text": [
      "+--------------------+--------------------+----------+--------------------+------------------+\n",
      "|            lat_long|        avg_humidity|avg_height|            avg_prec|          avg_temp|\n",
      "+--------------------+--------------------+----------+--------------------+------------------+\n",
      "|34.078125_166.570...|0.011024111928571426|       1.5|4.675274810285717E-5| 291.0280814285715|\n",
      "|34.546875_215.085...|0.008376348500000002|       1.5|3.405979742857144...| 288.3381742857143|\n",
      "|34.640625_343.617...|0.010210309499999997|       1.5|3.635315624285714E-5| 290.4654985714286|\n",
      "|35.015625_209.742...|0.009570894000000005|       1.5|1.787004063428570...| 289.7601371428571|\n",
      "|35.015625_258.257...| 0.00512114025714286|       1.5| 7.03902485714285E-7| 286.6124457142858|\n",
      "|35.765625_324.492...|0.010931105999999996|       1.5|4.906881318571426E-5| 291.2906485714286|\n",
      "|35.859375_167.835...|0.010105678071428575|       1.5|1.405988442571427...| 288.9374985714286|\n",
      "|36.046875_280.476...| 0.00631277902857143|       1.5|5.018143571428568E-6| 286.4979557142857|\n",
      "|36.234375_352.757...|0.009197416857142855|       1.5|1.301084277142857E-5| 289.3881142857144|\n",
      "|36.328125_204.820...|0.009982154500000001|       1.5|5.799248142857143...|288.87128714285717|\n",
      "|38.109375_289.054...|0.006260463200000004|       1.5|5.569912103857142E-5| 284.3672857142857|\n",
      "|38.203125_79.6640625|0.001754034171428571|       1.5|                 0.0| 288.0397114285714|\n",
      "|38.203125_340.945...|0.009458996042857142|       1.5|1.572654385857141...|288.75195428571436|\n",
      "|38.765625_259.242...|0.004814511257142857|       1.5|4.314241000000001...|281.88680857142873|\n",
      "|38.859375_291.445...|0.006054106228571428|       1.5|3.444580858571428E-5| 283.0559957142857|\n",
      "|39.046875_346.429...| 0.00881231385714285|       1.5|4.554930212142855...|287.98540428571425|\n",
      "|39.140625_11.4609375|0.006966727085714...|       1.5|6.357829071428571E-7| 287.0077128571428|\n",
      "|39.421875_26.5078125|0.006181989242857144|       1.5|3.321965594285713...|285.38941571428563|\n",
      "|39.609375_152.085...|        0.0058608282|       1.5|8.094878414285709E-5| 283.1589471428573|\n",
      "|39.609375_290.039...|0.005682082314285715|       1.5|4.114423328571426...| 281.5836099999999|\n",
      "+--------------------+--------------------+----------+--------------------+------------------+\n",
      "only showing top 20 rows\n",
      "\n"
     ]
    }
   ],
   "source": [
    "df_avg = df_avg.dropna()\n",
    "df_avg.show()"
   ]
  },
  {
   "cell_type": "markdown",
   "metadata": {},
   "source": [
    "# Machine Learning -- Linear Regression"
   ]
  },
  {
   "cell_type": "markdown",
   "metadata": {},
   "source": [
    "#### Data Preparation"
   ]
  },
  {
   "cell_type": "code",
   "execution_count": 74,
   "metadata": {},
   "outputs": [],
   "source": [
    "from pyspark.ml.feature import VectorAssembler"
   ]
  },
  {
   "cell_type": "code",
   "execution_count": 75,
   "metadata": {},
   "outputs": [],
   "source": [
    "vectora = VectorAssembler(inputCols=['specific_humidity','precipitation_flux','m01s01i202','wind_speed_of_gust'],outputCol='features')"
   ]
  },
  {
   "cell_type": "code",
   "execution_count": 76,
   "metadata": {},
   "outputs": [],
   "source": [
    "df44 = vectora.transform(df2)"
   ]
  },
  {
   "cell_type": "code",
   "execution_count": 77,
   "metadata": {},
   "outputs": [],
   "source": [
    "df44 = df44.select(['features','air_temperature'])"
   ]
  },
  {
   "cell_type": "code",
   "execution_count": 78,
   "metadata": {},
   "outputs": [
    {
     "name": "stdout",
     "output_type": "stream",
     "text": [
      "+--------------------+---------------+\n",
      "|            features|air_temperature|\n",
      "+--------------------+---------------+\n",
      "|[0.005818685,0.0,...|       290.3815|\n",
      "|[0.0040283203,0.0...|      282.80728|\n",
      "|[0.008524577,6.50...|      289.48047|\n",
      "|[0.005228678,0.0,...|      288.94727|\n",
      "|[0.00487264,0.0,2...|      287.47983|\n",
      "|[0.0071512857,4.4...|       289.2435|\n",
      "|[0.0029500325,0.0...|      279.70834|\n",
      "|[0.010080974,1.36...|      291.49936|\n",
      "|[0.005452474,1.93...|        283.181|\n",
      "|[0.0049235024,1.2...|       286.2129|\n",
      "|[0.0058898926,2.3...|      286.11133|\n",
      "|[0.005544027,3.17...|      283.89975|\n",
      "|[0.0047098794,0.0...|       282.3203|\n",
      "|[0.005493164,0.0,...|       281.5267|\n",
      "|[0.0034891765,0.0...|      277.10416|\n",
      "|[0.0048624673,1.5...|      283.64908|\n",
      "|[0.0068969727,3.1...|       286.2311|\n",
      "|[0.008249919,2.06...|      286.13022|\n",
      "|[0.003885905,6.35...|      280.77994|\n",
      "|[0.007385254,4.76...|       288.7643|\n",
      "+--------------------+---------------+\n",
      "only showing top 20 rows\n",
      "\n"
     ]
    }
   ],
   "source": [
    "df44.show()"
   ]
  },
  {
   "cell_type": "code",
   "execution_count": 79,
   "metadata": {},
   "outputs": [],
   "source": [
    "splits = df44.randomSplit([0.6,0.4])\n",
    "train = splits[0]\n",
    "test = splits[1]"
   ]
  },
  {
   "cell_type": "code",
   "execution_count": 80,
   "metadata": {},
   "outputs": [
    {
     "name": "stdout",
     "output_type": "stream",
     "text": [
      "+-------------------+---------------+\n",
      "|           features|air_temperature|\n",
      "+-------------------+---------------+\n",
      "| (4,[3],[0.921875])|      226.66602|\n",
      "|(4,[3],[1.8229166])|      228.02019|\n",
      "|(4,[3],[2.0572917])|      228.91992|\n",
      "+-------------------+---------------+\n",
      "only showing top 3 rows\n",
      "\n"
     ]
    }
   ],
   "source": [
    "train.show(3)"
   ]
  },
  {
   "cell_type": "markdown",
   "metadata": {},
   "source": [
    "#### Fit Model"
   ]
  },
  {
   "cell_type": "code",
   "execution_count": 81,
   "metadata": {},
   "outputs": [],
   "source": [
    "from pyspark.ml.regression import LinearRegression"
   ]
  },
  {
   "cell_type": "code",
   "execution_count": 82,
   "metadata": {},
   "outputs": [],
   "source": [
    "lr = LinearRegression(featuresCol='features',labelCol='air_temperature')"
   ]
  },
  {
   "cell_type": "code",
   "execution_count": 83,
   "metadata": {},
   "outputs": [],
   "source": [
    "lr_model = lr.fit(train)"
   ]
  },
  {
   "cell_type": "code",
   "execution_count": 84,
   "metadata": {},
   "outputs": [
    {
     "name": "stdout",
     "output_type": "stream",
     "text": [
      "Coefficients: [1372.889778490478,25538.31161813254,0.13190868654294657,0.5728662210700283]\n",
      "Intercept: 243.78581064538724\n",
      "numIterations: 1\n",
      "objectiveHistory: [0.0]\n",
      "+-------------------+\n",
      "|          residuals|\n",
      "+-------------------+\n",
      "| -17.64790169293616|\n",
      "|-16.809907989355054|\n",
      "| -16.04444356720498|\n",
      "| -22.62961446927372|\n",
      "|-21.482744948951392|\n",
      "|  -32.8136703368792|\n",
      "| -32.07273288596531|\n",
      "|-31.720184955373753|\n",
      "|-31.927654343060567|\n",
      "|-31.784649094190627|\n",
      "| -31.94658012889485|\n",
      "|-31.982445857442485|\n",
      "|-31.827668961555133|\n",
      "|-25.729082620694356|\n",
      "|-15.191801933032309|\n",
      "| -14.61238193303231|\n",
      "| -31.84815930859733|\n",
      "|-15.223640343301554|\n",
      "|-31.044497106553393|\n",
      "| -25.98146448211841|\n",
      "+-------------------+\n",
      "only showing top 20 rows\n",
      "\n",
      "RMSE: 10.731143\n",
      "r2: 0.778284\n"
     ]
    }
   ],
   "source": [
    "print(\"Coefficients: %s\" % str(lr_model.coefficients))\n",
    "print(\"Intercept: %s\" % str(lr_model.intercept))\n",
    "trainingSummary = lr_model.summary\n",
    "print(\"numIterations: %d\" % trainingSummary.totalIterations)\n",
    "print(\"objectiveHistory: %s\" % str(trainingSummary.objectiveHistory))\n",
    "trainingSummary.residuals.show()\n",
    "print(\"RMSE: %f\" % trainingSummary.rootMeanSquaredError)\n",
    "print(\"r2: %f\" % trainingSummary.r2)"
   ]
  },
  {
   "cell_type": "markdown",
   "metadata": {},
   "source": [
    "#### Fit Test Data"
   ]
  },
  {
   "cell_type": "code",
   "execution_count": 85,
   "metadata": {},
   "outputs": [],
   "source": [
    "lr_predictions = lr_model.transform(test)"
   ]
  },
  {
   "cell_type": "code",
   "execution_count": 86,
   "metadata": {},
   "outputs": [
    {
     "name": "stdout",
     "output_type": "stream",
     "text": [
      "+------------------+-------------------+---------------+\n",
      "|        prediction|           features|air_temperature|\n",
      "+------------------+-------------------+---------------+\n",
      "|244.58842005234115|(4,[3],[1.4010416])|      226.59961|\n",
      "|244.89872266513623|(4,[3],[1.9427084])|      227.90105|\n",
      "| 244.9017062669888|(4,[3],[1.9479166])|       215.4388|\n",
      "+------------------+-------------------+---------------+\n",
      "only showing top 3 rows\n",
      "\n"
     ]
    }
   ],
   "source": [
    "lr_predictions.select(['prediction','features','air_temperature']).show(n=3)"
   ]
  },
  {
   "cell_type": "code",
   "execution_count": 87,
   "metadata": {},
   "outputs": [],
   "source": [
    "from pyspark.ml.evaluation import RegressionEvaluator"
   ]
  },
  {
   "cell_type": "code",
   "execution_count": 88,
   "metadata": {},
   "outputs": [],
   "source": [
    "lr_evaluator = RegressionEvaluator(predictionCol=\"prediction\",labelCol=\"air_temperature\",metricName=\"r2\")"
   ]
  },
  {
   "cell_type": "code",
   "execution_count": 89,
   "metadata": {},
   "outputs": [
    {
     "name": "stdout",
     "output_type": "stream",
     "text": [
      "R Squared (R2) on test data = 0.77838\n"
     ]
    }
   ],
   "source": [
    "print(\"R Squared (R2) on test data = %g\" % lr_evaluator.evaluate(lr_predictions))"
   ]
  },
  {
   "cell_type": "code",
   "execution_count": 90,
   "metadata": {},
   "outputs": [
    {
     "name": "stdout",
     "output_type": "stream",
     "text": [
      "Root Mean Squared Error (RMSE) on test data = 10.7277\n"
     ]
    }
   ],
   "source": [
    "test_result = lr_model.evaluate(test)\n",
    "print(\"Root Mean Squared Error (RMSE) on test data = %g\" % test_result.rootMeanSquaredError)"
   ]
  },
  {
   "cell_type": "markdown",
   "metadata": {},
   "source": [
    "## END OF PROJECT"
   ]
  },
  {
   "cell_type": "code",
   "execution_count": null,
   "metadata": {},
   "outputs": [],
   "source": [
    "spark.stop()\n",
    "sc.stop()"
   ]
  }
 ],
 "metadata": {
  "kernelspec": {
   "display_name": "Python 3",
   "language": "python",
   "name": "python3"
  },
  "language_info": {
   "codemirror_mode": {
    "name": "ipython",
    "version": 3
   },
   "file_extension": ".py",
   "mimetype": "text/x-python",
   "name": "python",
   "nbconvert_exporter": "python",
   "pygments_lexer": "ipython3",
   "version": "3.7.7"
  }
 },
 "nbformat": 4,
 "nbformat_minor": 4
}
